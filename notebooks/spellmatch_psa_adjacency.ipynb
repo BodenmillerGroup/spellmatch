{
 "cells": [
  {
   "cell_type": "markdown",
   "metadata": {},
   "source": [
    "# Semi-synthetic Spellmatch adjacency parameter sensitivity analysis\n",
    "\n",
    "- Hand-picked images from Jackson & Fischer et al.\n",
    "- Fixed simutome parameters, 1 section per image\n",
    "- Spellmatch only\n",
    "    - Fixed similarity/prior weights\n",
    "    - Varying adjancy radii"
   ]
  },
  {
   "cell_type": "code",
   "execution_count": null,
   "metadata": {},
   "outputs": [],
   "source": [
    "import logging\n",
    "from argparse import ArgumentParser\n",
    "from functools import partial\n",
    "from pathlib import Path\n",
    "\n",
    "import numpy as np\n",
    "from tqdm.auto import tqdm\n",
    "\n",
    "from spellmatch import logger\n",
    "from spellmatch.assignment import assign\n",
    "from spellmatch.benchmark.metrics import default_metrics\n",
    "from spellmatch.benchmark.semisynthetic import (\n",
    "    AlgorithmConfig,\n",
    "    SemisyntheticBenchmark,\n",
    "    SemisyntheticBenchmarkConfig,\n",
    ")\n",
    "\n",
    "try:\n",
    "    from IPython.core.getipython import get_ipython\n",
    "    in_ipython = get_ipython() is not None\n",
    "except ImportError:\n",
    "    get_ipython = None\n",
    "    in_ipython = False"
   ]
  },
  {
   "cell_type": "code",
   "execution_count": null,
   "metadata": {},
   "outputs": [],
   "source": [
    "n_batches = 1\n",
    "batch_index = 0\n",
    "if not in_ipython:\n",
    "    parser = ArgumentParser()\n",
    "    parser.add_argument(\"n_batches\", type=int)\n",
    "    parser.add_argument(\"batch_index\", type=int)\n",
    "    args = parser.parse_args()\n",
    "    n_batches = args.n_batches\n",
    "    batch_index = args.batch_index"
   ]
  },
  {
   "cell_type": "code",
   "execution_count": null,
   "metadata": {},
   "outputs": [],
   "source": [
    "source_points_dir = \"../data/jackson_fischer_2020/source_points\"\n",
    "source_intensities_dir = \"../data/jackson_fischer_2020/source_intensities\"\n",
    "source_clusters_dir = \"../data/jackson_fischer_2020/source_clusters\"\n",
    "\n",
    "benchmark_config = SemisyntheticBenchmarkConfig(\n",
    "    source_points_file_names=[\n",
    "        f.name for f in sorted(Path(source_points_dir).glob(\"*.csv\"))\n",
    "    ],\n",
    "    source_intensities_file_names=[\n",
    "        f.name for f in sorted(Path(source_intensities_dir).glob(\"*.csv\"))\n",
    "    ],\n",
    "    source_clusters_file_names=[\n",
    "        f.name for f in sorted(Path(source_clusters_dir).glob(\"*.csv\"))\n",
    "    ],\n",
    "    simutome_kwargs={\n",
    "        # assume minor mis-alignment\n",
    "        \"image_rotation\": 2.0 * np.pi / 180,\n",
    "        \"image_translation\": (1.0, 3.0),\n",
    "        # see simutome_parameters.ipynb\n",
    "        \"exclude_cells\": True,\n",
    "        \"section_thickness\": 2.0,\n",
    "        \"cell_diameter_mean\": 7.931,\n",
    "        \"cell_diameter_std\": 1.768,\n",
    "        # see simutome_parameters.ipynb\n",
    "        \"displace_cells\": True,\n",
    "        \"cell_displacement_mean\": 0.067,\n",
    "        \"cell_displacement_var\": 1.010,\n",
    "    },\n",
    "    simutome_param_grid={},\n",
    "    n_simutome_sections=1,\n",
    "    algorithm_configs={\n",
    "        \"spellmatch\": AlgorithmConfig(\n",
    "            algorithm_name=\"spellmatch\",\n",
    "            algorithm_kwargs={\n",
    "\n",
    "                \"filter_outliers\": False,\n",
    "                \"intensity_transform\": \"numpy.arcsinh\",\n",
    "                \"alpha\": 0.7,  # TODO\n",
    "                \"spatial_cdist_prior_thres\": 25.0,  # TODO\n",
    "                \"max_spatial_cdist\": 50.0,\n",
    "                \"degree_weight\": 1.0,  # TODO\n",
    "                \"degree_cdiff_thres\": 3,  # TODO\n",
    "                \"intensity_weight\": 1.0,  # TODO\n",
    "                \"intensity_interp_lmd\": 1.0,  # TODO\n",
    "                \"intensity_shared_pca_n_components\": 15,  # TODO\n",
    "                \"distance_weight\": 1.0,  # TODO\n",
    "                \"distance_cdiff_thres\": 5.0,  # TODO\n",
    "                \"scores_tol\": 1e-6,\n",
    "                \"require_convergence\": True,\n",
    "                \"require_opt_convergence\": True,\n",
    "            },\n",
    "            algorithm_param_grid={\n",
    "                \"graph\": [\n",
    "                    {\n",
    "                        \"adj_radius\": 12,\n",
    "                    },\n",
    "                    {\n",
    "                        \"adj_radius\": 15,\n",
    "                    },\n",
    "                    {\n",
    "                        \"adj_radius\": 18,\n",
    "                    },\n",
    "                ],\n",
    "            },\n",
    "        ),\n",
    "    },\n",
    "    seed=123,\n",
    ")\n",
    "\n",
    "assignment_functions = {\n",
    "    \"min_score_q25_intersect\": partial(\n",
    "        assign, min_score_quantile=0.25, direction=\"intersect\", as_matrix=True\n",
    "    ),\n",
    "    \"min_score_q25_union\": partial(\n",
    "        assign, min_score_quantile=0.25, direction=\"union\", as_matrix=True\n",
    "    ),\n",
    "    \"max_only_intersect\": partial(\n",
    "        assign, max_only=True, direction=\"intersect\", as_matrix=True\n",
    "    ),\n",
    "    \"max_only_union\": partial(\n",
    "        assign, max_only=True, direction=\"union\", as_matrix=True\n",
    "    ),\n",
    "    \"linear_sum_forward\": partial(\n",
    "        assign, linear_sum=True, direction=\"forward\", as_matrix=True\n",
    "    ),\n",
    "}\n",
    "metric_functions = default_metrics"
   ]
  },
  {
   "cell_type": "code",
   "execution_count": null,
   "metadata": {},
   "outputs": [],
   "source": [
    "benchmark = SemisyntheticBenchmark(\n",
    "    benchmark_config, f\"spellmatch_psa_adjacency_{batch_index:03d}\"\n",
    ")\n",
    "benchmark.save()"
   ]
  },
  {
   "cell_type": "code",
   "execution_count": null,
   "metadata": {},
   "outputs": [],
   "source": [
    "logger.setLevel(logging.INFO)\n",
    "logger_file_handler = logging.FileHandler(\n",
    "    benchmark.benchmark_dir / \"spellmatch.log\", mode=\"w\"\n",
    ")\n",
    "logger_file_handler.setFormatter(\n",
    "    logging.Formatter(fmt=\"%(asctime)s %(levelname)s %(name)s - %(message)s\")\n",
    ")\n",
    "logger.addHandler(logger_file_handler)"
   ]
  },
  {
   "cell_type": "code",
   "execution_count": null,
   "metadata": {},
   "outputs": [],
   "source": [
    "for info, scores in tqdm(\n",
    "    benchmark.run(\n",
    "        source_points_dir,\n",
    "        source_intensities_dir=source_intensities_dir,\n",
    "        source_clusters_dir=source_clusters_dir,\n",
    "        batch_index=batch_index,\n",
    "        n_batches=n_batches,\n",
    "    ),\n",
    "    total=benchmark.get_run_length(n_batches),\n",
    "):\n",
    "    pass"
   ]
  },
  {
   "cell_type": "code",
   "execution_count": null,
   "metadata": {},
   "outputs": [],
   "source": [
    "for result in tqdm(\n",
    "    benchmark.evaluate(assignment_functions, metric_functions),\n",
    "    total=benchmark.get_evaluation_length(assignment_functions, metric_functions),\n",
    "):\n",
    "    pass"
   ]
  }
 ],
 "metadata": {
  "interpreter": {
   "hash": "48552f1e0085238a3740c4463b23e5f53bb0e70392f2ba74f46eff445f4a3441"
  },
  "jupytext": {
   "formats": "ipynb,py:percent"
  },
  "kernelspec": {
   "display_name": "Python 3 (ipykernel)",
   "language": "python",
   "name": "python3"
  },
  "language_info": {
   "codemirror_mode": {
    "name": "ipython",
    "version": 3
   },
   "file_extension": ".py",
   "mimetype": "text/x-python",
   "name": "python",
   "nbconvert_exporter": "python",
   "pygments_lexer": "ipython3",
   "version": "3.9.12"
  }
 },
 "nbformat": 4,
 "nbformat_minor": 4
}
