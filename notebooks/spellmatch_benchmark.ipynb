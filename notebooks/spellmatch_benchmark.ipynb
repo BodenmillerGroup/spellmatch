{
 "cells": [
  {
   "cell_type": "markdown",
   "metadata": {},
   "source": [
    "# Semi-synthetic Spellmatch benchmark\n",
    "\n",
    "- Hand-picked images from Jackson & Fischer et al.\n",
    "- Varying simutome parameters, 1 section per image\n",
    "- Many algorithms, including Spellmatch\n",
    "    - Fixed similarity/prior weights\n",
    "    - Fixed adjacency radii"
   ]
  },
  {
   "cell_type": "code",
   "execution_count": null,
   "metadata": {},
   "outputs": [],
   "source": [
    "import logging\n",
    "from argparse import ArgumentParser\n",
    "from functools import partial\n",
    "from pathlib import Path\n",
    "\n",
    "import numpy as np\n",
    "from tqdm.auto import tqdm\n",
    "\n",
    "from spellmatch.assignment import assign\n",
    "from spellmatch.benchmark.metrics import default_metrics\n",
    "from spellmatch.benchmark.semisynthetic import (\n",
    "    SemisyntheticBenchmark,\n",
    "    SemisyntheticBenchmarkConfig,\n",
    ")"
   ]
  },
  {
   "cell_type": "code",
   "execution_count": null,
   "metadata": {},
   "outputs": [],
   "source": [
    "source_points_dir = \"../data/jackson_fischer_2020/source_points\"\n",
    "source_intensities_dir = \"../data/jackson_fischer_2020/source_intensities\"\n",
    "source_clusters_dir = \"../data/jackson_fischer_2020/source_clusters\"\n",
    "\n",
    "benchmark_config = SemisyntheticBenchmarkConfig(\n",
    "    source_points_file_names=[\n",
    "        f.name for f in sorted(Path(source_points_dir).glob(\"*.csv\"))\n",
    "    ],\n",
    "    source_intensities_file_names=[\n",
    "        f.name for f in sorted(Path(source_intensities_dir).glob(\"*.csv\"))\n",
    "    ],\n",
    "    source_clusters_file_names=[\n",
    "        f.name for f in sorted(Path(source_clusters_dir).glob(\"*.csv\"))\n",
    "    ],\n",
    "    simutome_kwargs={},  # TODO\n",
    "    simutome_param_grid={},  # TODO\n",
    "    n_simutome_sections=1,\n",
    "    algorithm_configs={\n",
    "        \"spellmatch\": SemisyntheticBenchmarkConfig.AlgorithmConfig(\n",
    "            algorithm_name=\"spellmatch\",\n",
    "            algorithm_kwargs={},  # TODO\n",
    "            algorithm_param_grid={},  # TODO\n",
    "        ),\n",
    "        \"icp\": SemisyntheticBenchmarkConfig.AlgorithmConfig(\n",
    "            algorithm_name=\"icp\",\n",
    "            algorithm_kwargs={},  # TODO\n",
    "            algorithm_param_grid={},  # TODO\n",
    "        ),\n",
    "        \"rigid_cpd\": SemisyntheticBenchmarkConfig.AlgorithmConfig(\n",
    "            algorithm_name=\"rigid_cpd\",\n",
    "            algorithm_kwargs={},  # TODO\n",
    "            algorithm_param_grid={},  # TODO\n",
    "        ),\n",
    "    },\n",
    "    seed=123,\n",
    ")\n",
    "\n",
    "assignment_functions = {\n",
    "    \"min_score_q25_intersect\": partial(\n",
    "        assign, min_score_quantile=0.25, direction=\"intersect\", as_matrix=True\n",
    "    ),\n",
    "    \"min_score_q25_union\": partial(\n",
    "        assign, min_score_quantile=0.25, direction=\"union\", as_matrix=True\n",
    "    ),\n",
    "    \"max_only_intersect\": partial(\n",
    "        assign, max_only=True, direction=\"intersect\", as_matrix=True\n",
    "    ),\n",
    "    \"max_only_union\": partial(\n",
    "        assign, max_only=True, direction=\"union\", as_matrix=True\n",
    "    ),\n",
    "    \"linear_sum_forward\": partial(\n",
    "        assign, linear_sum=True, direction=\"forward\", as_matrix=True\n",
    "    ),\n",
    "}\n",
    "metric_functions = default_metrics"
   ]
  },
  {
   "cell_type": "code",
   "execution_count": null,
   "metadata": {},
   "outputs": [],
   "source": [
    "parser = ArgumentParser()\n",
    "parser.add_argument(\"--path\", type=str, default=\"spellmatch_benchmark\")\n",
    "parser.add_argument(\"--batch\", type=int, default=0)\n",
    "parser.add_argument(\"--nbatch\", type=int, default=1)\n",
    "parser.add_argument(\"--nproc\", type=int, default=None)\n",
    "benchmark_args, _ = parser.parse_known_args()"
   ]
  },
  {
   "cell_type": "code",
   "execution_count": null,
   "metadata": {},
   "outputs": [],
   "source": [
    "benchmark_dir = Path(benchmark_args.path)\n",
    "benchmark_dir.mkdir(exist_ok=True)\n",
    "logging.basicConfig(\n",
    "    filename=benchmark_dir / \"benchmark.log\",\n",
    "    filemode=\"w\",\n",
    "    format=\"[%(processName)-4s] %(asctime)s %(levelname)s %(name)s - %(message)s\",\n",
    "    level=logging.INFO,\n",
    "    force=True,\n",
    ")"
   ]
  },
  {
   "cell_type": "code",
   "execution_count": null,
   "metadata": {},
   "outputs": [],
   "source": [
    "benchmark = SemisyntheticBenchmark(benchmark_dir, benchmark_config)\n",
    "benchmark.save()"
   ]
  },
  {
   "cell_type": "code",
   "execution_count": null,
   "metadata": {},
   "outputs": [],
   "source": [
    "for run_config in tqdm(\n",
    "    benchmark.run_parallel(\n",
    "        source_points_dir,\n",
    "        source_intensities_dir=source_intensities_dir,\n",
    "        source_clusters_dir=source_clusters_dir,\n",
    "        batch_index=benchmark_args.batch,\n",
    "        n_batches=benchmark_args.nbatch,\n",
    "        n_processes=benchmark_args.nproc,\n",
    "    ),\n",
    "    total=benchmark.get_run_length(benchmark_args.nbatch),\n",
    "):\n",
    "    pass"
   ]
  },
  {
   "cell_type": "code",
   "execution_count": null,
   "metadata": {},
   "outputs": [],
   "source": [
    "for result in tqdm(\n",
    "    benchmark.evaluate(assignment_functions, metric_functions),\n",
    "    total=benchmark.get_evaluation_length(assignment_functions, metric_functions),\n",
    "):\n",
    "    pass"
   ]
  }
 ],
 "metadata": {
  "interpreter": {
   "hash": "48552f1e0085238a3740c4463b23e5f53bb0e70392f2ba74f46eff445f4a3441"
  },
  "jupytext": {
   "formats": "ipynb,py:percent"
  },
  "kernelspec": {
   "display_name": "Python 3 (ipykernel)",
   "language": "python",
   "name": "python3"
  },
  "language_info": {
   "codemirror_mode": {
    "name": "ipython",
    "version": 3
   },
   "file_extension": ".py",
   "mimetype": "text/x-python",
   "name": "python",
   "nbconvert_exporter": "python",
   "pygments_lexer": "ipython3",
   "version": "3.9.12"
  }
 },
 "nbformat": 4,
 "nbformat_minor": 4
}
