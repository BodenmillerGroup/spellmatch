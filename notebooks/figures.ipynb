{
 "cells": [
  {
   "cell_type": "markdown",
   "metadata": {},
   "source": [
    "# Figures"
   ]
  },
  {
   "cell_type": "code",
   "execution_count": null,
   "metadata": {},
   "outputs": [],
   "source": [
    "import matplotlib.pyplot as plt\n",
    "import numpy as np\n",
    "import pandas as pd\n",
    "import seaborn as sns\n",
    "from scipy.stats import norm\n",
    "\n",
    "paper_width = 8.3\n",
    "paper_margin = 0\n",
    "\n",
    "sns.set_theme(\n",
    "    context=\"paper\",\n",
    "    style=\"ticks\",\n",
    "    palette=\"colorblind\",\n",
    "    color_codes=True,\n",
    "    rc={\n",
    "        \"figure.figsize\": (paper_width - 2 * paper_margin, 4 * (paper_width - 2 * paper_margin) / 6),\n",
    "        \"figure.titlesize\": 12,  # \"large\",\n",
    "        \"axes.titlesize\": 10,  # 9.6,\n",
    "        \"axes.labelsize\": 10,  # 9.6,\n",
    "        \"legend.fontsize\": 10,  # 8.8,\n",
    "        \"legend.title_fontsize\": 10,  # 9.6,\n",
    "        \"xtick.labelsize\": 8,  # 8.8,\n",
    "        \"xtick.major.size\": 7,  # 4.8,\n",
    "        \"xtick.minor.size\": 5,  # 3.2,\n",
    "        \"ytick.labelsize\": 8,  # 8.8,\n",
    "        \"ytick.major.size\": 7,  # 4.8,\n",
    "        \"ytick.minor.size\": 5,  # 3.2,\n",
    "        \"font.size\": 10,  # 9.6,\n",
    "        \"font.family\": 'lmodern',\n",
    "        \"text.usetex\": True,\n",
    "        \"text.latex.preamble\": [\n",
    "            r\"\\usepackage{amsmath}\",\n",
    "            r\"\\usepackage{lmodern}\",\n",
    "        ],\n",
    "    },\n",
    ")\n",
    "\n",
    "rng = np.random.default_rng(seed=123)"
   ]
  },
  {
   "cell_type": "markdown",
   "metadata": {},
   "source": [
    "## Figure 1"
   ]
  },
  {
   "cell_type": "markdown",
   "metadata": {},
   "source": [
    "Created with BioRender"
   ]
  },
  {
   "cell_type": "markdown",
   "metadata": {},
   "source": [
    "## Figure 2"
   ]
  },
  {
   "cell_type": "code",
   "execution_count": null,
   "metadata": {},
   "outputs": [],
   "source": [
    "cell_data = pd.read_csv(\"../data/kuett_catena_2022/sectioning/cell_data.csv\")\n",
    "cell_slice_data = pd.read_csv(\"../data/kuett_catena_2022/sectioning/cell_slice_data.csv\")"
   ]
  },
  {
   "cell_type": "code",
   "execution_count": null,
   "metadata": {},
   "outputs": [],
   "source": [
    "mu_r = cell_data.loc[cell_data[\"sectioning_axis_name\"] == \"z\", \"proj_cell_radius_um\"].mean()\n",
    "sigma_r = cell_data.loc[cell_data[\"sectioning_axis_name\"] == \"z\", \"proj_cell_radius_um\"].std()\n",
    "\n",
    "t = cell_slice_data[\"section_thickness_um\"].unique()\n",
    "r = rng.normal(loc=mu_r, scale=sigma_r, size=len(cell_data.index))\n",
    "s = np.ceil(2 * r[:, np.newaxis] / t[np.newaxis, :])\n",
    "\n",
    "def s_dash(k):\n",
    "    n1 = np.floor((t[np.newaxis, :] - ((2 * r[:, np.newaxis]) % t[np.newaxis, :])) / k) + 1\n",
    "    n2 = np.ceil(((2 * r[:, np.newaxis]) % t[np.newaxis, :]) / k) - 1\n",
    "    return (n1 * s + (n2 * (s + 1))) / (n1 + n2)"
   ]
  },
  {
   "cell_type": "code",
   "execution_count": null,
   "metadata": {},
   "outputs": [],
   "source": [
    "def plot_volume(ax=None):\n",
    "    if ax is None:\n",
    "        ax = plt.gca()\n",
    "    ax.axis(\"off\")"
   ]
  },
  {
   "cell_type": "code",
   "execution_count": null,
   "metadata": {},
   "outputs": [],
   "source": [
    "def plot_cell_radius(ax=None, num=1000):\n",
    "    if ax is None:\n",
    "        ax = plt.gca()\n",
    "    x_r = np.linspace(\n",
    "        cell_data.loc[cell_data[\"sectioning_axis_name\"] == \"z\", \"proj_cell_radius_um\"].min(),\n",
    "        cell_data.loc[cell_data[\"sectioning_axis_name\"] == \"z\", \"proj_cell_radius_um\"].max(),\n",
    "        num,\n",
    "    )\n",
    "    y_r = norm.pdf(x_r, mu_r, sigma_r)\n",
    "    sns.kdeplot(\n",
    "        data=cell_data[cell_data[\"sectioning_axis_name\"] == \"z\"],\n",
    "        x=\"proj_cell_radius_um\",\n",
    "        label=r\"$r_z = \\sqrt{\\frac{A_z}{\\pi}}$\",\n",
    "        legend=False,\n",
    "        ax=ax,\n",
    "    )\n",
    "    ax.plot(x_r, y_r, label=r\"$R \\sim \\mathcal{N}(\\mu_r, \\sigma_r)$\", ls=\"--\")\n",
    "    ax.text(\n",
    "        0.9,\n",
    "        0.5,\n",
    "        f\"\"\"$\\\\hat{{\\\\mu}}_r = {mu_r:.3f}$\n",
    "            $\\\\hat{{\\\\sigma}}_r = {sigma_r:.3f}$\"\"\",\n",
    "        transform=ax.transAxes,\n",
    "        ha=\"right\",\n",
    "        va=\"center\",\n",
    "    )\n",
    "    ax.set_title(r\"Cell radius (circular approximation)\")\n",
    "    ax.set_xlabel(r\"Radius [$\\mu m$]\")\n",
    "    ax.set_ylabel(r\"Density\")\n",
    "    ax.legend()"
   ]
  },
  {
   "cell_type": "code",
   "execution_count": null,
   "metadata": {},
   "outputs": [],
   "source": [
    "def plot_cell_section_span(ax=None):\n",
    "    if ax is None:\n",
    "        ax = plt.gca()\n",
    "    data = pd.concat(\n",
    "        {\n",
    "            r\"z-sectioning\": cell_slice_data[cell_slice_data[\"sectioning_axis_name\"] == \"z\"].groupby(\n",
    "                [\"section_thickness_um\", \"section_offset_um\", \"cell_id\"]\n",
    "            ).size().reset_index(name=\"cell_section_span\").groupby(\n",
    "                [\"section_thickness_um\", \"cell_id\"]\n",
    "            )[\"cell_section_span\"].mean().reset_index(name=\"cell_section_span\").drop(columns=\"cell_id\"),\n",
    "\n",
    "            r\"y-sectioning\": cell_slice_data[cell_slice_data[\"sectioning_axis_name\"] == \"y\"].groupby(\n",
    "                [\"section_thickness_um\", \"section_offset_um\", \"cell_id\"]\n",
    "            ).size().reset_index(name=\"cell_section_span\").groupby(\n",
    "                [\"section_thickness_um\", \"cell_id\"]\n",
    "            )[\"cell_section_span\"].mean().reset_index(name=\"cell_section_span\").drop(columns=\"cell_id\"),\n",
    "\n",
    "            r\"x-sectioning\": cell_slice_data[cell_slice_data[\"sectioning_axis_name\"] == \"x\"].groupby(\n",
    "                [\"section_thickness_um\", \"section_offset_um\", \"cell_id\"]\n",
    "            ).size().reset_index(name=\"cell_section_span\").groupby(\n",
    "                [\"section_thickness_um\", \"cell_id\"]\n",
    "            )[\"cell_section_span\"].mean().reset_index(name=\"cell_section_span\").drop(columns=\"cell_id\"),\n",
    "\n",
    "            r\"$S = \\lceil 2 R t^{-1} \\rceil$\": pd.DataFrame(data=s, columns=t).melt(\n",
    "                var_name=\"section_thickness_um\", value_name=\"cell_section_span\"\n",
    "            ),\n",
    "\n",
    "            r\"$S'(2)$\": pd.DataFrame(data=s_dash(2), columns=t).melt(\n",
    "                var_name=\"section_thickness_um\", value_name=\"cell_section_span\"\n",
    "            ),\n",
    "\n",
    "            r\"$\\lim_{k \\to 0}~S'(k)$\": pd.DataFrame(data=s_dash(1e-12), columns=t).melt(\n",
    "                var_name=\"section_thickness_um\", value_name=\"cell_section_span\"\n",
    "            )\n",
    "        },\n",
    "        names=[\"label\", \"\"],\n",
    "    ).reset_index()\n",
    "    data[\"section_thickness_um\"] = data[\"section_thickness_um\"].astype(\"category\")\n",
    "    g = sns.lineplot(\n",
    "        data=data,\n",
    "        x=\"section_thickness_um\",\n",
    "        y=\"cell_section_span\",\n",
    "        hue=\"label\",\n",
    "        marker=\"o\",\n",
    "        ci=None,\n",
    "        ax=ax,\n",
    "    )\n",
    "    g.get_legend().set_title(None)\n",
    "    ax.set_title(r\"Cell section span\")\n",
    "    ax.set_xlabel(r\"Section thickness [$\\mu m$]\")\n",
    "    ax.set_ylabel(r\"Number of sections\")"
   ]
  },
  {
   "cell_type": "code",
   "execution_count": null,
   "metadata": {},
   "outputs": [],
   "source": [
    "def plot_cell_miss_probab(ax=None):\n",
    "    if ax is None:\n",
    "        ax = plt.gca()\n",
    "    data = pd.DataFrame(data=1 / s_dash(1e-12), columns=t).melt(\n",
    "        var_name=\"section_thickness_um\", value_name=\"cell_miss_probab\"\n",
    "    )\n",
    "    data[\"section_thickness_um\"] = data[\"section_thickness_um\"].astype(\"category\")\n",
    "    g = sns.kdeplot(\n",
    "        data=data,\n",
    "        x=\"cell_miss_probab\",\n",
    "        hue=\"section_thickness_um\",\n",
    "        ax=ax,\n",
    "    )\n",
    "    g.get_legend().set_title(r\"Section thickness [$\\mu m$]\")    \n",
    "    ax.set_title(r\"Cell miss probability\")\n",
    "    ax.set_xlabel(r\"$P($cell miss in next section$) = \\lim_{k \\to 0}~S'(k)^{-1}$\")\n",
    "    ax.set_ylabel(r\"Density\")\n",
    "    ax.set_xlim(0, 1)"
   ]
  },
  {
   "cell_type": "code",
   "execution_count": null,
   "metadata": {},
   "outputs": [],
   "source": [
    "fig, axes = plt.subplot_mosaic(\n",
    "    \"\"\"AB\n",
    "       CD\"\"\",\n",
    ")\n",
    "plot_volume(ax=axes[\"A\"])\n",
    "plot_cell_radius(ax=axes[\"B\"])\n",
    "plot_cell_section_span(ax=axes[\"C\"])\n",
    "plot_cell_miss_probab(ax=axes[\"D\"])\n",
    "plt.tight_layout()\n",
    "plt.show()"
   ]
  }
 ],
 "metadata": {
  "interpreter": {
   "hash": "48552f1e0085238a3740c4463b23e5f53bb0e70392f2ba74f46eff445f4a3441"
  },
  "kernelspec": {
   "display_name": "Python 3 (ipykernel)",
   "language": "python",
   "name": "python3"
  },
  "language_info": {
   "codemirror_mode": {
    "name": "ipython",
    "version": 3
   },
   "file_extension": ".py",
   "mimetype": "text/x-python",
   "name": "python",
   "nbconvert_exporter": "python",
   "pygments_lexer": "ipython3",
   "version": "3.9.7"
  }
 },
 "nbformat": 4,
 "nbformat_minor": 4
}
