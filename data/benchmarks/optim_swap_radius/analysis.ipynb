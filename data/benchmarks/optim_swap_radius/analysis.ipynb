{
 "cells": [
  {
   "cell_type": "code",
   "execution_count": 1,
   "id": "9c1a9fec-ca1d-48c1-9394-8ef04dd0b5ca",
   "metadata": {},
   "outputs": [],
   "source": [
    "import matplotlib.pyplot as plt\n",
    "import pandas as pd\n",
    "import seaborn as sns"
   ]
  },
  {
   "cell_type": "code",
   "execution_count": 3,
   "id": "5d921908-cebe-46ca-bb8f-bd9441b3eaf3",
   "metadata": {},
   "outputs": [],
   "source": [
    "scores_info = pd.read_csv(\"results/scores.csv\")"
   ]
  },
  {
   "cell_type": "markdown",
   "id": "5051ed05-ed7d-4c73-a35f-1c246fab02c7",
   "metadata": {},
   "source": [
    "WARNING: batch 0 ran out of time $\\to$ only one simutome section pair could be evaluated for `dense_heterogeneous.csv`"
   ]
  },
  {
   "cell_type": "code",
   "execution_count": 4,
   "id": "49309226-ca19-4894-9afd-445d28b07ff3",
   "metadata": {},
   "outputs": [
    {
     "data": {
      "image/png": "[encoded data removed]",
      "text/plain": [
       "<Figure size 432x288 with 1 Axes>"
      ]
     },
     "metadata": {
      "needs_background": "light"
     },
     "output_type": "display_data"
    }
   ],
   "source": [
    "results_info = pd.read_csv(\"results/results.csv\")\n",
    "sns.violinplot(\n",
    "    data=results_info[\n",
    "        (results_info[\"assignment_name\"] == \"max_intersect\")\n",
    "        & (results_info[\"metric_name\"] == \"f1score\")\n",
    "    ],\n",
    "    x=\"spellmatch_adj_radius\",\n",
    "    y=\"metric_value\",\n",
    "    inner=\"point\",\n",
    ")\n",
    "plt.xlabel(r\"$\\alpha$\")\n",
    "plt.ylabel(r\"$F_1$-score\")\n",
    "plt.ylim(-0.15, 1.15)\n",
    "plt.show()"
   ]
  }
 ],
 "metadata": {
  "kernelspec": {
   "display_name": "Python 3 (ipykernel)",
   "language": "python",
   "name": "python3"
  },
  "language_info": {
   "codemirror_mode": {
    "name": "ipython",
    "version": 3
   },
   "file_extension": ".py",
   "mimetype": "text/x-python",
   "name": "python",
   "nbconvert_exporter": "python",
   "pygments_lexer": "ipython3",
   "version": "3.9.12"
  }
 },
 "nbformat": 4,
 "nbformat_minor": 5
}
