{
 "cells": [
  {
   "cell_type": "markdown",
   "id": "34ba4527-a43d-462e-aa5e-8f922e1e46ae",
   "metadata": {},
   "source": [
    "# Semi-synthetic data generation parameters"
   ]
  },
  {
   "cell_type": "code",
   "execution_count": 1,
   "id": "229face8-5d6a-4c73-b506-8b31044dc02f",
   "metadata": {},
   "outputs": [],
   "source": [
    "import numpy as np\n",
    "import pandas as pd"
   ]
  },
  {
   "cell_type": "markdown",
   "id": "cc841b4d-519a-4890-8faf-c0eae3ca2053",
   "metadata": {},
   "source": [
    "## Cell exclusion parameters"
   ]
  },
  {
   "cell_type": "code",
   "execution_count": 2,
   "id": "bf2b4851-c747-4595-b61e-a781c2ccf42a",
   "metadata": {},
   "outputs": [],
   "source": [
    "cell_data = pd.read_csv(\"../datasets/kuett_catena_2022/sectioning/cell_data.csv\")"
   ]
  },
  {
   "cell_type": "code",
   "execution_count": 3,
   "id": "52fd6abf-5516-475c-abaa-af1c7e31174f",
   "metadata": {},
   "outputs": [
    {
     "name": "stdout",
     "output_type": "stream",
     "text": [
      "Cell diameter mean: 7.9312735863614465\n",
      "Cell diameter SD: 1.7681411523960602\n"
     ]
    }
   ],
   "source": [
    "d_obs = 2 * cell_data.loc[cell_data[\"sectioning_axis_name\"] == \"z\", \"proj_cell_radius_um\"].to_numpy()\n",
    "print(\"Cell diameter mean:\", d_obs.mean())\n",
    "print(\"Cell diameter SD:\", d_obs.std())"
   ]
  },
  {
   "cell_type": "markdown",
   "id": "e9a2666a-f9fb-4fde-b86a-56abcd26833d",
   "metadata": {},
   "source": [
    "## Cell displacement parameters"
   ]
  },
  {
   "cell_type": "code",
   "execution_count": 4,
   "id": "96bea5a4-9ecf-4966-9e01-76d0ab337d89",
   "metadata": {},
   "outputs": [],
   "source": [
    "cell_slice_displacement_data = pd.read_csv(\"../datasets/kuett_catena_2022/sectioning/cell_slice_displacement_data.csv\")"
   ]
  },
  {
   "cell_type": "code",
   "execution_count": 5,
   "id": "d524a9c1-078e-4f2f-ab90-f9a94f6f619c",
   "metadata": {},
   "outputs": [
    {
     "name": "stdout",
     "output_type": "stream",
     "text": [
      "-0.003080381647668883 1.069840723416532\n"
     ]
    },
    {
     "data": {
      "text/plain": [
       "<AxesSubplot:>"
      ]
     },
     "execution_count": 5,
     "metadata": {},
     "output_type": "execute_result"
    },
    {
     "data": {
      "image/png": "[encoded data removed]",
      "text/plain": [
       "<Figure size 432x288 with 1 Axes>"
      ]
     },
     "metadata": {
      "needs_background": "light"
     },
     "output_type": "display_data"
    }
   ],
   "source": [
    "df_x = cell_slice_displacement_data.loc[\n",
    "    (cell_slice_displacement_data[\"sectioning_axis_name\"] == \"z\") & (cell_slice_displacement_data[\"section_thickness_um\"] == 2),\n",
    "    \"cell_slice_centroid_displacement_x_um\",\n",
    "]\n",
    "print(df_x.mean(), df_x.var())\n",
    "df_x.hist(bins=100)"
   ]
  },
  {
   "cell_type": "code",
   "execution_count": 6,
   "id": "54c8bea1-1fa8-48b8-aba8-68900f4948b3",
   "metadata": {},
   "outputs": [
    {
     "name": "stdout",
     "output_type": "stream",
     "text": [
      "-0.1325194035261297 0.9496678407197192\n"
     ]
    },
    {
     "data": {
      "text/plain": [
       "<AxesSubplot:>"
      ]
     },
     "execution_count": 6,
     "metadata": {},
     "output_type": "execute_result"
    },
    {
     "data": {
      "image/png": "[encoded data removed]",
      "text/plain": [
       "<Figure size 432x288 with 1 Axes>"
      ]
     },
     "metadata": {
      "needs_background": "light"
     },
     "output_type": "display_data"
    }
   ],
   "source": [
    "df_y = cell_slice_displacement_data.loc[\n",
    "    (cell_slice_displacement_data[\"sectioning_axis_name\"] == \"z\") & (cell_slice_displacement_data[\"section_thickness_um\"] == 2),\n",
    "    \"cell_slice_centroid_displacement_y_um\",\n",
    "]\n",
    "print(df_y.mean(), df_y.var())\n",
    "df_y.hist(bins=100)"
   ]
  },
  {
   "cell_type": "markdown",
   "id": "19e293d4-c113-426d-b91c-da5e60e31d0e",
   "metadata": {},
   "source": [
    "$R \\sim \\mathrm{Rayleigh}(\\sigma)$ is Rayleigh distributed if $R = \\sqrt{X^2 + Y^2}$, where $X \\sim N(0, \\sigma^2)$ and $Y \\sim N(0, \\sigma^2)$ are independent normal random variables.\n",
    "\n",
    "Given a sample of $N$ independent and identically distributed Rayleigh random variables $x_i$ with parameter $\\sigma$, $\\widehat{\\sigma}^2\\approx \\!\\,\\frac{1}{2N}\\sum_{i=1}^N x_i^2$ is the maximum likelihood estimate and also is unbiased.\n",
    "\n",
    "See https://en.wikipedia.org/wiki/Rayleigh_distribution"
   ]
  },
  {
   "cell_type": "code",
   "execution_count": 8,
   "id": "13fa29cc-c20b-474f-bedb-aca7963bbbdf",
   "metadata": {},
   "outputs": [
    {
     "name": "stdout",
     "output_type": "stream",
     "text": [
      "Cell displacement variance: 1.0097501420171944\n"
     ]
    }
   ],
   "source": [
    "x_centered = df_x - df_x.mean()\n",
    "y_centered = df_y - df_y.mean()\n",
    "r = (x_centered ** 2 + y_centered ** 2) ** 0.5\n",
    "print(\"Cell displacement variance:\", 0.5 * np.mean(r ** 2))"
   ]
  }
 ],
 "metadata": {
  "kernelspec": {
   "display_name": "Python 3 (ipykernel)",
   "language": "python",
   "name": "python3"
  },
  "language_info": {
   "codemirror_mode": {
    "name": "ipython",
    "version": 3
   },
   "file_extension": ".py",
   "mimetype": "text/x-python",
   "name": "python",
   "nbconvert_exporter": "python",
   "pygments_lexer": "ipython3",
   "version": "3.9.12"
  }
 },
 "nbformat": 4,
 "nbformat_minor": 5
}
