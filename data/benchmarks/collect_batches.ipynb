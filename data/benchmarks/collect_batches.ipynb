{
 "cells": [
  {
   "cell_type": "code",
   "execution_count": null,
   "id": "08ccaa48-187b-4414-b628-ffdca4a6ea47",
   "metadata": {},
   "outputs": [],
   "source": [
    "import shutil\n",
    "from argparse import ArgumentParser\n",
    "from pathlib import Path\n",
    "\n",
    "import pandas as pd\n",
    "from tqdm.auto import tqdm"
   ]
  },
  {
   "cell_type": "code",
   "execution_count": null,
   "id": "b251394e-d118-4347-b852-3fe27663e070",
   "metadata": {},
   "outputs": [],
   "source": [
    "parser = ArgumentParser()\n",
    "parser.add_argument(\"--path\", type=str, default=\"\")\n",
    "args, _ = parser.parse_known_args()\n",
    "assert args.path, \"path argument\""
   ]
  },
  {
   "cell_type": "code",
   "execution_count": null,
   "id": "d4cf504b-d6e4-408c-ba4e-e7914d2b5378",
   "metadata": {},
   "outputs": [],
   "source": [
    "results_dir = Path(args.path)\n",
    "batch_dirs = sorted(results_dir.glob(\"batch*\"))\n",
    "\n",
    "scores_dir = results_dir / \"scores\"\n",
    "scores_dir.mkdir()\n",
    "log_dir = results_dir / \"logs\"\n",
    "log_dir.mkdir()\n",
    "\n",
    "scores_infos = []\n",
    "results_infos = []\n",
    "for batch_dir in tqdm(batch_dirs):\n",
    "    config_file = batch_dir / \"config.yaml\"\n",
    "    shutil.copy2(config_file, results_dir)\n",
    "    for scores_file in sorted((batch_dir / \"scores\").glob(\"*.nc\")):\n",
    "        assert not (scores_dir / scores_file.name).exists()\n",
    "        shutil.copy2(scores_file, scores_dir / scores_file.name)\n",
    "    log_file = batch_dir / \"benchmark.log\"\n",
    "    shutil.copy2(log_file, log_dir / f\"{batch_dir.name}.log\")\n",
    "    scores_info = pd.read_csv(batch_dir / \"scores.csv\")\n",
    "    scores_infos.append(scores_info)\n",
    "    results_info = pd.read_csv(batch_dir / \"results.csv\")\n",
    "    results_infos.append(results_info)\n",
    "pd.concat(scores_infos).to_csv(results_dir / \"scores.csv\", index=False)\n",
    "pd.concat(results_infos).to_csv(results_dir / \"results.csv\", index=False)"
   ]
  }
 ],
 "metadata": {
  "jupytext": {
   "formats": "ipynb,py:percent"
  },
  "kernelspec": {
   "display_name": "Python 3 (ipykernel)",
   "language": "python",
   "name": "python3"
  },
  "language_info": {
   "codemirror_mode": {
    "name": "ipython",
    "version": 3
   },
   "file_extension": ".py",
   "mimetype": "text/x-python",
   "name": "python",
   "nbconvert_exporter": "python",
   "pygments_lexer": "ipython3",
   "version": "3.9.12"
  }
 },
 "nbformat": 4,
 "nbformat_minor": 5
}
