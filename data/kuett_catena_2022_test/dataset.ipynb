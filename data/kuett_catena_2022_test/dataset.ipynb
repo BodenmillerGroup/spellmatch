{
 "cells": [
  {
   "cell_type": "code",
   "execution_count": 1,
   "id": "fb510b35-45d4-41ab-a058-58862ec3afe3",
   "metadata": {},
   "outputs": [],
   "source": [
    "import matplotlib.pyplot as plt\n",
    "import numpy as np\n",
    "import pandas as pd\n",
    "import shutil\n",
    "import tifffile"
   ]
  },
  {
   "cell_type": "code",
   "execution_count": 2,
   "id": "0eb0450b-5dcf-4ef2-83c9-8a67edd0c459",
   "metadata": {},
   "outputs": [],
   "source": [
    "template_source_mask = tifffile.imread(\"../kuett_catena_2022/source_masks/00_28_9_ROI 10_10.tiff\")\n",
    "template_target_mask = tifffile.imread(\"../kuett_catena_2022/target_masks/00_27_8_ROI 09_9.tiff\")\n",
    "template_source_img = tifffile.imread(\"../kuett_catena_2022/source_img/00_28_9_ROI 10_10.tiff\")\n",
    "template_target_img = tifffile.imread(\"../kuett_catena_2022/target_img/00_27_8_ROI 09_9.tiff\")\n",
    "template_source_panel = pd.read_csv(\"../kuett_catena_2022/source_panel.csv\")\n",
    "template_target_panel = pd.read_csv(\"../kuett_catena_2022/target_panel.csv\")\n",
    "template_initial_transform = np.load(\"../kuett_catena_2022/initial_transforms_refined/transform_00_28_9_ROI 10_10_to_00_27_8_ROI 09_9.npy\")\n",
    "template_initial_assignment = pd.read_csv(\"../kuett_catena_2022/initial_assignments/assignment_00_28_9_ROI 10_10_to_00_27_8_ROI 09_9.csv\")"
   ]
  },
  {
   "cell_type": "code",
   "execution_count": 3,
   "id": "3ec33254-044d-4af3-80dd-8ec8ac8b2cbf",
   "metadata": {},
   "outputs": [],
   "source": [
    "source_mask = np.where(np.isin(template_source_mask, template_initial_assignment[\"Source\"]), template_source_mask, 0)\n",
    "target_mask = np.where(np.isin(template_target_mask, template_initial_assignment[\"Target\"]), template_target_mask, 0)\n",
    "source_img = np.where(np.isin(template_source_mask, template_initial_assignment[\"Source\"]), template_source_img, 0)\n",
    "target_img = np.where(np.isin(template_target_mask, template_initial_assignment[\"Target\"]), template_target_img, 0)\n",
    "source_panel = template_source_panel.copy()\n",
    "target_panel = template_target_panel.copy()\n",
    "initial_transform = template_initial_transform.copy()\n",
    "initial_assignment = template_initial_assignment.copy()"
   ]
  },
  {
   "cell_type": "code",
   "execution_count": 4,
   "id": "55a8f91e-40f3-4fbf-90b9-2ef4fecc8cec",
   "metadata": {},
   "outputs": [],
   "source": [
    "tifffile.imwrite(\"source_mask.tiff\", data=source_mask)\n",
    "tifffile.imwrite(\"target_mask.tiff\", data=target_mask)\n",
    "tifffile.imwrite(\"source_img.tiff\", data=source_img)\n",
    "tifffile.imwrite(\"target_img.tiff\", data=target_img)\n",
    "source_panel.to_csv(\"source_panel.csv\", index=False)\n",
    "target_panel.to_csv(\"target_panel.csv\", index=False)\n",
    "np.save(\"initial_transform.npy\", initial_transform)\n",
    "initial_assignment.to_csv(\"initial_assignment.csv\", index=False)"
   ]
  }
 ],
 "metadata": {
  "kernelspec": {
   "display_name": "Python 3 (ipykernel)",
   "language": "python",
   "name": "python3"
  },
  "language_info": {
   "codemirror_mode": {
    "name": "ipython",
    "version": 3
   },
   "file_extension": ".py",
   "mimetype": "text/x-python",
   "name": "python",
   "nbconvert_exporter": "python",
   "pygments_lexer": "ipython3",
   "version": "3.9.7"
  }
 },
 "nbformat": 4,
 "nbformat_minor": 5
}
