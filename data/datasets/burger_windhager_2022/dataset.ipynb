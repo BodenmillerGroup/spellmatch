{
 "cells": [
  {
   "cell_type": "markdown",
   "id": "0d96a81f-a604-4688-b200-b6183c3eda81",
   "metadata": {},
   "source": [
    "# Burger & Windhager et al. (in preparation, 2022)"
   ]
  },
  {
   "cell_type": "code",
   "execution_count": null,
   "id": "b5ee6036-32b0-4d61-a0ba-d8c929db5db9",
   "metadata": {},
   "outputs": [],
   "source": [
    "from pathlib import Path\n",
    "\n",
    "import napari\n",
    "import numpy as np\n",
    "import pandas as pd\n",
    "from scipy.ndimage import affine_transform\n",
    "from skimage.transform import EuclideanTransform\n",
    "from tifffile import imread, imwrite"
   ]
  },
  {
   "cell_type": "markdown",
   "id": "3ba214c5-1c19-4ec2-af04-35b65ed4290f",
   "metadata": {},
   "source": [
    "## Image extraction"
   ]
  },
  {
   "cell_type": "markdown",
   "id": "a4981531-ea58-43b1-977e-d3cef5ed3d27",
   "metadata": {},
   "source": [
    "Run [steinbock.sh](steinbock.sh)"
   ]
  },
  {
   "cell_type": "code",
   "execution_count": null,
   "id": "1dc6a947-1b90-45b8-9fcd-14cc6ee673c1",
   "metadata": {},
   "outputs": [],
   "source": [
    "volume_dir = Path(\"volumes\")\n",
    "volume_dir.mkdir(exist_ok=True)\n",
    "image_info = pd.read_csv(\"images.csv\")\n",
    "for source_file, group in image_info.groupby(\"source_file\"):\n",
    "    img = np.array(\n",
    "        [\n",
    "            imread(Path(\"img\") / img_file_name)\n",
    "            for img_file_name in group[\"image\"].sort_values()\n",
    "        ]\n",
    "    )\n",
    "    imwrite(volume_dir / f\"{Path(source_file).stem}.tiff\", data=img)"
   ]
  },
  {
   "cell_type": "code",
   "execution_count": null,
   "id": "e09c3781-f335-451b-90e1-e23204a032a6",
   "metadata": {},
   "outputs": [],
   "source": [
    "# scale = (0.6, 1, 1)\n",
    "# viewer = napari.Viewer()\n",
    "# channel_names = pd.read_csv(\"panel.csv\")[\"name\"].dropna().tolist()\n",
    "# viewer.open(\"volumes/20220221_MB_3DAblation_BCOrganoidInEPON.tiff\", channel_axis=1, name=channel_names, colormap=\"gray\", scale=scale, visible=False);\n",
    "# viewer.open(\"volumes/20220303_MB_3DAblation_BCOrganoidsInEPON.tiff\", channel_axis=1, name=channel_names, colormap=\"gray\", scale=sacle, visible=False);"
   ]
  },
  {
   "cell_type": "markdown",
   "id": "522b8dc9-4565-4f56-9dae-db77aeae2392",
   "metadata": {},
   "source": [
    "## Image registration"
   ]
  },
  {
   "cell_type": "code",
   "execution_count": null,
   "id": "68b34485-19f2-429b-a5e2-3e533268e423",
   "metadata": {},
   "outputs": [],
   "source": [
    "img1 = imread(\"volumes/20220221_MB_3DAblation_BCOrganoidInEPON.tiff\")\n",
    "img2 = imread(\"volumes/20220303_MB_3DAblation_BCOrganoidsInEPON.tiff\")\n",
    "napping_transform = np.load(\"napping_euclidean_transform_layer101_to_layer100.npy\")"
   ]
  },
  {
   "cell_type": "code",
   "execution_count": null,
   "id": "e8f24066-9f7f-42a2-abd1-d075c0d11c2c",
   "metadata": {},
   "outputs": [],
   "source": [
    "transform = np.eye(4)\n",
    "transform[0, 3] = img1.shape[0]\n",
    "transform[[1, 2], 3] = napping_transform[[1, 0], 2]\n",
    "transform[[1, 2], [2, 1]] = napping_transform[[1, 0], [0, 1]]\n",
    "transform = EuclideanTransform(matrix=transform)"
   ]
  },
  {
   "cell_type": "code",
   "execution_count": null,
   "id": "e6adfbe7-19a5-4719-86b3-31d0b5bcfbac",
   "metadata": {},
   "outputs": [],
   "source": [
    "img1_min, img1_max = np.array([0, 0, 0]), np.array(img1.shape)[[0, 2, 3]]\n",
    "img2_min, img2_max = transform([[0, 0, 0], np.array(img2.shape)[[0, 2, 3]]])\n",
    "img_min = np.minimum(img1_min, img2_min)\n",
    "img_max = np.maximum(img1_max, img2_max)\n",
    "img_shape = np.ceil(img_max).astype(int) - np.floor(img_min).astype(int)\n",
    "img_shape = (img_shape[0], img1.shape[1], img_shape[1], img_shape[2])\n",
    "\n",
    "img1_transformed = np.zeros(img_shape, dtype=img1.dtype)\n",
    "img1_transformed\n",
    "for c in range(img1.shape[1]):\n",
    "    img1_transformed[:, c, :, :] = affine_transform(\n",
    "        img1[:, c, :, :],\n",
    "        np.eye(3),\n",
    "        offset=img_min,\n",
    "        output=img1_transformed[:, c, :, :],\n",
    "        order=1,  # linear interpolation\n",
    "    )\n",
    "\n",
    "img2_transformed = np.zeros(img_shape, dtype=img2.dtype)\n",
    "for c in range(img2.shape[1]):\n",
    "    img2_transformed[:, c, :, :] = affine_transform(\n",
    "        img2[:, c, :, :],\n",
    "        np.linalg.inv(transform.params)[:3, :3],\n",
    "        offset=transform.inverse(img_min)[0],\n",
    "        output=img2_transformed[:, c, :, :],\n",
    "        order=1,  # linear interpolation\n",
    "    )\n",
    "    \n",
    "img = np.maximum(img1_transformed, img2_transformed)\n",
    "img = img[15:145, :, 195:280, 167:252]\n",
    "imwrite(\"img.tiff\", data=img)"
   ]
  },
  {
   "cell_type": "code",
   "execution_count": null,
   "id": "0a5033f7-7773-4f9a-be94-9122970ce73b",
   "metadata": {},
   "outputs": [],
   "source": [
    "# scale = (0.6, 1, 1)\n",
    "# viewer = napari.Viewer(ndisplay=3)\n",
    "# channel_names = pd.read_csv(\"panel.csv\")[\"name\"].dropna().tolist()\n",
    "# viewer.open(\"img.tiff\", channel_axis=1, name=channel_names, colormap=\"gray\", scale=scale, visible=False);"
   ]
  },
  {
   "cell_type": "markdown",
   "id": "c8143d84-27d0-4e1c-9754-8a043f0b7510",
   "metadata": {},
   "source": [
    "## Image segmentation"
   ]
  },
  {
   "cell_type": "code",
   "execution_count": null,
   "id": "4eb6e1c0-bbae-4e60-b974-669c55eed05e",
   "metadata": {},
   "outputs": [],
   "source": [
    "# import sys\n",
    "# !{sys.executable} -m pip install cellpose"
   ]
  },
  {
   "cell_type": "code",
   "execution_count": null,
   "id": "ac06c267-5872-4f1d-b2ae-7f11977b5c2a",
   "metadata": {},
   "outputs": [],
   "source": [
    "# import os\n",
    "\n",
    "# from cellpose.models import Cellpose\n",
    "\n",
    "# os.environ[\"CELLPOSE_LOCAL_MODELS_PATH\"] = \"/mnt/data/cellpose/\""
   ]
  },
  {
   "cell_type": "code",
   "execution_count": null,
   "id": "de389ce7-5561-4eb2-8d78-39561531258b",
   "metadata": {},
   "outputs": [],
   "source": [
    "# model = Cellpose(gpu=True, model_type=\"nuclei\")\n",
    "# img = imread(\"img.tiff\")\n",
    "# nucl_img = np.amax(img[:, [3, 4, 10], :, :], axis=1)  # H3K9ac, Ki-67, H3K4me2\n",
    "# mask, _, _, _ = model.eval(\n",
    "#     nucl_img,\n",
    "#     channels=[0, 0],\n",
    "#     z_axis=0,\n",
    "#     diameter=12,\n",
    "#     do_3D=True,\n",
    "#     anisotropy=0.6,\n",
    "#     min_size=50,\n",
    "#     progress=True,\n",
    "# )\n",
    "# imwrite(\"mask.tiff\", data=mask.astype(np.uint16))"
   ]
  },
  {
   "cell_type": "code",
   "execution_count": null,
   "id": "9a3f0a17-8b15-41c7-8eba-0d0a3cb5b07b",
   "metadata": {},
   "outputs": [],
   "source": [
    "# scale = (0.6, 1, 1)\n",
    "# viewer = napari.Viewer(ndisplay=3)\n",
    "# channel_names = pd.read_csv(\"panel.csv\")[\"name\"].dropna().tolist()\n",
    "# viewer.open(\"img.tiff\", channel_axis=1, name=channel_names, colormap=\"gray\", scale=scale, visible=False);\n",
    "# viewer.open(\"mask.tiff\", layer_type=\"labels\", name=\"Cell mask\", scale=scale, visible=False);"
   ]
  }
 ],
 "metadata": {
  "kernelspec": {
   "display_name": "Python 3 (ipykernel)",
   "language": "python",
   "name": "python3"
  },
  "language_info": {
   "codemirror_mode": {
    "name": "ipython",
    "version": 3
   },
   "file_extension": ".py",
   "mimetype": "text/x-python",
   "name": "python",
   "nbconvert_exporter": "python",
   "pygments_lexer": "ipython3",
   "version": "3.9.12"
  }
 },
 "nbformat": 4,
 "nbformat_minor": 5
}
