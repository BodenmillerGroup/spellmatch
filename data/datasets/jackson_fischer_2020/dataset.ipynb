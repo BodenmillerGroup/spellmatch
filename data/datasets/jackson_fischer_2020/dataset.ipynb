{
 "cells": [
  {
   "cell_type": "markdown",
   "id": "620e5b3d-f88d-44aa-98cd-ac2af41c246d",
   "metadata": {},
   "source": [
    "# Jackson & Fischer et al. (Nature, 2020)"
   ]
  },
  {
   "cell_type": "code",
   "execution_count": 1,
   "id": "b86cda14-f415-4259-a683-108e7b5af3a6",
   "metadata": {},
   "outputs": [],
   "source": [
    "from pathlib import Path\n",
    "\n",
    "import numpy as np\n",
    "import pandas as pd"
   ]
  },
  {
   "cell_type": "code",
   "execution_count": 2,
   "id": "a3b1e76a-176e-4047-82d1-fe6702105233",
   "metadata": {},
   "outputs": [],
   "source": [
    "raw_points_file = \"raw/Basel_SC_locations.csv\"\n",
    "raw_features_file = \"raw/Data_publication/BaselTMA/SC_dat.csv\"\n",
    "raw_clusters_file = \"raw/Data_publication/BaselTMA/PG_final_k20.csv\"\n",
    "\n",
    "intensity_features = {\n",
    "    \"1261726In113Di Histone\": \"HH3\",\n",
    "    \"473968La139Di Histone\": \"H3K27me3\",\n",
    "    \"651779Pr141Di Cytoker\": \"CK5\",\n",
    "    \"3281668Nd142Di Fibrone\": \"Fibronectin\",\n",
    "    \"3111576Nd143Di Cytoker\": \"CK19\",\n",
    "    \"971099Nd144Di Cytoker\": \"CK8/18\",\n",
    "    \"Nd145Di Twist\": \"Twist\",\n",
    "    \"77877Nd146Di CD68\": \"CD68\",\n",
    "    \"346876Sm147Di Keratin\": \"CK14\",\n",
    "    \"174864Nd148Di SMA\": \"SMA\",\n",
    "    \"1921755Sm149Di Vimenti\": \"Vimentin\",\n",
    "    \"322787Nd150Di cMyc\": \"cMYC\",\n",
    "    \"201487Eu151Di cerbB\": \"HER2\",\n",
    "    \"8001752Sm152Di CD3epsi\": \"CD3\",\n",
    "    \"phospho Histone\": \"p-HH3\",\n",
    "    \"3521227Gd155Di Slug\": \"Slug\",\n",
    "    \"112475Gd156Di Estroge\": \"ER\",\n",
    "    \"312878Gd158Di Progest\": \"PR\",\n",
    "    \"207736Tb159Di p53\": \"p53\",\n",
    "    \"6967Gd160Di CD44\": \"CD44\",\n",
    "    \"71790Dy162Di CD45\": \"CD45\",\n",
    "    \"117792Dy163Di GATA3\": \"GATA3\",\n",
    "    \"361077Dy164Di CD20\": \"CD20\",\n",
    "    \"92964Er166Di Carboni\": \"CAIX\",\n",
    "    \"1031747Er167Di ECadhe\": \"E/P-Cadherin\",\n",
    "    \"1441101Er168Di Ki67\": \"Ki-67\",\n",
    "    \"1021522Tm169Di EGFR\": \"EGFR\",\n",
    "    \"phospho S6\": \"p-S6\",\n",
    "    \"378871Yb172Di vWF\": \"vWF/CD31\",\n",
    "    \"phospho mTOR\": \"p-mTOR\",\n",
    "    \"98922Yb174Di Cytoker\": \"CK7\",\n",
    "    \"234832Lu175Di panCyto\": \"pan-CK\",\n",
    "    \"198883Yb176Di cleaved\": \"CC3/cPARP\",\n",
    "    \"10331253Ir191Di Iridium\": \"DNA1\",\n",
    "    \"10331254Ir193Di Iridium\": \"DNA2\",\n",
    "}\n",
    "\n",
    "cores = {\n",
    "    \"dense_homogeneous\": \"BaselTMA_SP41_191_X15Y7\",\n",
    "    \"dense_heterogeneous\": \"BaselTMA_SP43_115_X4Y8\",\n",
    "    \"sparse_homogeneous\": \"BaselTMA_SP42_84_X8Y1\",\n",
    "    \"sparse_heterogeneous\": \"BaselTMA_SP43_17_X12Y4\",\n",
    "}"
   ]
  },
  {
   "cell_type": "markdown",
   "id": "99315a53-17d4-4f0c-8b30-77cd9495ebd6",
   "metadata": {},
   "source": [
    "## Data download"
   ]
  },
  {
   "cell_type": "markdown",
   "id": "ebf7fee7-dbdd-49ac-acca-eaa3b2a7910a",
   "metadata": {},
   "source": [
    "1. Download the files `SingleCell_and_Metadata.zip` and `singlecell_locations.zip` from https://zenodo.org/record/4607374 (version 2)\n",
    "2. Extract the contents of both files to the `raw` directory (create the directory if it does not exist)"
   ]
  },
  {
   "cell_type": "markdown",
   "id": "4030987b-cffd-4d57-8f49-4c67cac54ecc",
   "metadata": {},
   "source": [
    "## Data extraction"
   ]
  },
  {
   "cell_type": "code",
   "execution_count": 3,
   "id": "43a87d5b-fe97-49ff-bb3e-67aba12991b6",
   "metadata": {},
   "outputs": [],
   "source": [
    "points = pd.read_csv(raw_points_file)\n",
    "points = points.loc[\n",
    "    :,  # points[\"core\"].isin(cores.values()),\n",
    "    [\"core\", \"ObjectNumber_renamed\", \"Location_Center_X\", \"Location_Center_Y\"],\n",
    "].set_index([\"core\", \"ObjectNumber_renamed\"])\n",
    "points.rename(columns={\"Location_Center_X\": \"x\", \"Location_Center_Y\": \"y\"}, inplace=True)\n",
    "points.index.names = [\"core\", \"cell\"]"
   ]
  },
  {
   "cell_type": "code",
   "execution_count": 4,
   "id": "0b3c2f41-25f2-4acc-94ad-cbd379c4ff15",
   "metadata": {},
   "outputs": [],
   "source": [
    "features = pd.read_csv(raw_features_file)\n",
    "features = features.loc[\n",
    "    :,  # features[\"core\"].isin(cores.values()),\n",
    "    [\"core\", \"CellId\", \"channel\", \"mc_counts\"],\n",
    "].pivot(index=[\"core\", \"CellId\"], columns=\"channel\", values=\"mc_counts\")\n",
    "intensities = features.loc[:, list(intensity_features.keys())]\n",
    "intensities.rename(columns=intensity_features, inplace=True)\n",
    "intensities.index.names = [\"core\", \"cell\"]\n",
    "del features"
   ]
  },
  {
   "cell_type": "code",
   "execution_count": 5,
   "id": "d48bbe79-6f70-4f92-8090-a470b0134199",
   "metadata": {},
   "outputs": [],
   "source": [
    "clusters = pd.read_csv(raw_clusters_file)\n",
    "clusters = clusters.loc[\n",
    "    :,  # clusters[\"core\"].isin(cores.values()),\n",
    "    [\"core\", \"CellId\", \"PhenoGraphBasel\"],\n",
    "].set_index([\"core\", \"CellId\"])\n",
    "clusters.rename(columns={\"PhenoGraphBasel\": \"cluster\"}, inplace=True)\n",
    "clusters.index.names = [\"core\", \"cell\"]"
   ]
  },
  {
   "cell_type": "code",
   "execution_count": 6,
   "id": "70987591-0357-4099-85f9-32ceef6b8328",
   "metadata": {},
   "outputs": [],
   "source": [
    "points_dir = Path(\"points\")\n",
    "clusters_dir = Path(\"clusters\")\n",
    "intensities_dir = Path(\"intensities\")\n",
    "\n",
    "points_dir.mkdir(exist_ok=True)\n",
    "clusters_dir.mkdir(exist_ok=True)\n",
    "intensities_dir.mkdir(exist_ok=True)\n",
    "\n",
    "for core_label, core in cores.items():\n",
    "    current_points = points.loc[core].sort_index()\n",
    "    current_clusters = clusters.loc[core].loc[current_points.index]\n",
    "    current_intensities = intensities.loc[core].loc[current_points.index]\n",
    "    current_points.to_csv(points_dir / f\"{core_label}.csv\")\n",
    "    current_clusters.to_csv(clusters_dir / f\"{core_label}.csv\")\n",
    "    current_intensities.to_csv(intensities_dir / f\"{core_label}.csv\")"
   ]
  }
 ],
 "metadata": {
  "kernelspec": {
   "display_name": "Python 3 (ipykernel)",
   "language": "python",
   "name": "python3"
  },
  "language_info": {
   "codemirror_mode": {
    "name": "ipython",
    "version": 3
   },
   "file_extension": ".py",
   "mimetype": "text/x-python",
   "name": "python",
   "nbconvert_exporter": "python",
   "pygments_lexer": "ipython3",
   "version": "3.9.12"
  }
 },
 "nbformat": 4,
 "nbformat_minor": 5
}
