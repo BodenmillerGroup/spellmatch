{
 "cells": [
  {
   "cell_type": "code",
   "execution_count": 1,
   "id": "cc6c4f6b-6d2e-4c57-aeae-493d696ed54e",
   "metadata": {},
   "outputs": [
    {
     "name": "stdout",
     "output_type": "stream",
     "text": [
      "Jupyter environment detected. Enabling Open3D WebVisualizer.\n",
      "[Open3D INFO] WebRTC GUI backend enabled.\n",
      "[Open3D INFO] WebRTCWindowSystem: HTTP handshake server disabled.\n"
     ]
    }
   ],
   "source": [
    "import logging\n",
    "\n",
    "import matplotlib.pyplot as plt\n",
    "import numpy as np\n",
    "import pandas as pd\n",
    "from tqdm.auto import tqdm\n",
    "\n",
    "from spellmatch.assignment import assign\n",
    "from spellmatch.benchmark.metrics import default_metrics\n",
    "from spellmatch.io import read_image, read_mask, read_panel\n",
    "from spellmatch.matching.algorithms.spellmatch import Spellmatch"
   ]
  },
  {
   "cell_type": "code",
   "execution_count": 2,
   "id": "0fb74bf1-70bc-46b1-811c-f1b21720aaad",
   "metadata": {},
   "outputs": [],
   "source": [
    "logger = logging.getLogger()\n",
    "logger.setLevel(logging.WARNING)"
   ]
  },
  {
   "cell_type": "code",
   "execution_count": 3,
   "id": "fea4eb05-7333-4c0c-b940-ca5511e8a6b6",
   "metadata": {},
   "outputs": [],
   "source": [
    "panel = read_panel(\"datasets/burger_windhager_2022/panel.csv\").dropna(subset=\"name\")\n",
    "img = read_image(\"datasets/burger_windhager_2022/img.tiff\", panel=panel, zscale=0.3)\n",
    "mask = read_mask(\"datasets/burger_windhager_2022/mask.tiff\", zscale=0.3)"
   ]
  },
  {
   "cell_type": "code",
   "execution_count": 4,
   "id": "fee27d7f-7832-4aff-b77d-94df134137c5",
   "metadata": {},
   "outputs": [],
   "source": [
    "algorithm = Spellmatch(\n",
    "    intensity_transform=\"numpy.arcsinh\",\n",
    "    transform_estim_k_best=5,\n",
    "    scores_tol=1e-9,\n",
    "    filter_outliers=False,\n",
    "    adj_radius=15,\n",
    "    alpha=0.8,\n",
    "    spatial_cdist_prior_thres=5,\n",
    "    degree_weight=1,\n",
    "    intensity_weight=1,\n",
    "    intensity_interp_lmd=1,\n",
    "    distance_weight=1,\n",
    ")"
   ]
  },
  {
   "cell_type": "code",
   "execution_count": 5,
   "id": "732bf4ea-98bc-4855-9ecd-5de93979bea8",
   "metadata": {},
   "outputs": [
    {
     "data": {
      "application/vnd.jupyter.widget-view+json": {
       "model_id": "2d293e1645b944028ba0608c16dc897f",
       "version_major": 2,
       "version_minor": 0
      },
      "text/plain": [
       "  0%|          | 0/129 [00:00<?, ?it/s]"
      ]
     },
     "metadata": {},
     "output_type": "display_data"
    },
    {
     "name": "stderr",
     "output_type": "stream",
     "text": [
      "ERROR - 2022-05-08 02:26:44,023 - 3691879161 - Input contains NaN, infinity or a value too large for dtype('float32').\n",
      "ERROR - 2022-05-08 02:26:44,032 - 3691879161 - Input contains NaN, infinity or a value too large for dtype('float32').\n",
      "WARNING - 2022-05-08 02:26:44,374 - _algorithms - Iterative algorithm did not converge after 50 iterations (0.186 seconds)\n",
      "WARNING - 2022-05-08 02:26:45,055 - _algorithms - Iterative algorithm did not converge after 50 iterations (0.220 seconds)\n"
     ]
    }
   ],
   "source": [
    "infos = []\n",
    "for z, (img1, img2, mask1, mask2) in enumerate(\n",
    "    tqdm(zip(img[:-1], img[1:], mask[:-1], mask[1:]), total=img.shape[0] - 1)\n",
    "):\n",
    "    img1.name = \"img1\"\n",
    "    img2.name = \"img2\"\n",
    "    mask1.name = \"mask1\"\n",
    "    mask2.name = \"mask2\"\n",
    "    img1.attrs[\"scale\"] = (1, 1)\n",
    "    img2.attrs[\"scale\"] = (1, 1)\n",
    "    mask1.attrs[\"scale\"] = (1, 1)\n",
    "    mask2.attrs[\"scale\"] = (1, 1)\n",
    "    if len(np.unique(mask1)) > 5 and len(np.unique(mask2)) > 5:\n",
    "        try:\n",
    "            info, scores = algorithm.match_masks(mask1, mask2, img1, img2)\n",
    "            if info[\"converged\"]:\n",
    "                scores_arr = scores.to_numpy()\n",
    "                coords0 = scores.coords[scores.dims[0]].to_numpy()  # may contain duplicates\n",
    "                coords1 = scores.coords[scores.dims[1]].to_numpy()  # may contain duplicates\n",
    "                assignment_arr_true = np.zeros_like(scores_arr, dtype=bool)\n",
    "                for c in np.unique(np.concatenate((coords0, coords1))):\n",
    "                    assignment_arr_true[np.ix_(coords0 == c, coords1 == c)] = True\n",
    "                assignment_mat = assign(scores, max_assignment=True, assignment_direction=\"intersect\", as_matrix=True)\n",
    "                assignment_arr_pred = assignment_mat.to_numpy()\n",
    "                for metric_name, metric in default_metrics.items():\n",
    "                    info[metric_name] = metric(scores_arr, assignment_arr_pred, assignment_arr_true)\n",
    "                info[\"n1\"], info[\"n2\"] = assignment_arr_true.shape\n",
    "                info[\"z\"] = z\n",
    "                infos.append(info)\n",
    "        except Exception as e:\n",
    "            logger.error(e)\n",
    "results = pd.DataFrame(data=infos).drop(columns=\"lambda\")\n",
    "results.to_csv(\"validation.csv\", index=False)"
   ]
  },
  {
   "cell_type": "code",
   "execution_count": 6,
   "id": "9bb97ab4-72b3-455c-8c8e-719a89720b6e",
   "metadata": {},
   "outputs": [
    {
     "data": {
      "text/html": [
       "<div>\n",
       "<style scoped>\n",
       "    .dataframe tbody tr th:only-of-type {\n",
       "        vertical-align: middle;\n",
       "    }\n",
       "\n",
       "    .dataframe tbody tr th {\n",
       "        vertical-align: top;\n",
       "    }\n",
       "\n",
       "    .dataframe thead th {\n",
       "        text-align: right;\n",
       "    }\n",
       "</style>\n",
       "<table border=\"1\" class=\"dataframe\">\n",
       "  <thead>\n",
       "    <tr style=\"text-align: right;\">\n",
       "      <th></th>\n",
       "      <th>opt_iterations</th>\n",
       "      <th>iterations</th>\n",
       "      <th>precision</th>\n",
       "      <th>recall</th>\n",
       "      <th>f1score</th>\n",
       "      <th>uncertainty_mean</th>\n",
       "      <th>uncertainty_std</th>\n",
       "      <th>margin_mean</th>\n",
       "      <th>margin_std</th>\n",
       "      <th>entropy_mean</th>\n",
       "      <th>entropy_std</th>\n",
       "      <th>n1</th>\n",
       "      <th>n2</th>\n",
       "      <th>z</th>\n",
       "    </tr>\n",
       "  </thead>\n",
       "  <tbody>\n",
       "    <tr>\n",
       "      <th>count</th>\n",
       "      <td>76.000000</td>\n",
       "      <td>76.000000</td>\n",
       "      <td>76.000000</td>\n",
       "      <td>76.000000</td>\n",
       "      <td>76.000000</td>\n",
       "      <td>76.000000</td>\n",
       "      <td>76.000000</td>\n",
       "      <td>76.000000</td>\n",
       "      <td>76.000000</td>\n",
       "      <td>76.000000</td>\n",
       "      <td>76.000000</td>\n",
       "      <td>76.000000</td>\n",
       "      <td>76.000000</td>\n",
       "      <td>76.000000</td>\n",
       "    </tr>\n",
       "    <tr>\n",
       "      <th>mean</th>\n",
       "      <td>28.894737</td>\n",
       "      <td>3.131579</td>\n",
       "      <td>0.987246</td>\n",
       "      <td>0.986337</td>\n",
       "      <td>0.986642</td>\n",
       "      <td>0.431067</td>\n",
       "      <td>0.284940</td>\n",
       "      <td>0.441722</td>\n",
       "      <td>0.277355</td>\n",
       "      <td>0.496603</td>\n",
       "      <td>0.293873</td>\n",
       "      <td>10.394737</td>\n",
       "      <td>10.342105</td>\n",
       "      <td>52.815789</td>\n",
       "    </tr>\n",
       "    <tr>\n",
       "      <th>std</th>\n",
       "      <td>9.291687</td>\n",
       "      <td>0.442481</td>\n",
       "      <td>0.042728</td>\n",
       "      <td>0.051611</td>\n",
       "      <td>0.046362</td>\n",
       "      <td>0.111050</td>\n",
       "      <td>0.048715</td>\n",
       "      <td>0.112932</td>\n",
       "      <td>0.061390</td>\n",
       "      <td>0.179043</td>\n",
       "      <td>0.113034</td>\n",
       "      <td>3.183620</td>\n",
       "      <td>3.243671</td>\n",
       "      <td>26.076662</td>\n",
       "    </tr>\n",
       "    <tr>\n",
       "      <th>min</th>\n",
       "      <td>12.000000</td>\n",
       "      <td>3.000000</td>\n",
       "      <td>0.777778</td>\n",
       "      <td>0.714286</td>\n",
       "      <td>0.769231</td>\n",
       "      <td>0.165321</td>\n",
       "      <td>0.193923</td>\n",
       "      <td>0.214387</td>\n",
       "      <td>0.112534</td>\n",
       "      <td>0.011940</td>\n",
       "      <td>0.018335</td>\n",
       "      <td>5.000000</td>\n",
       "      <td>5.000000</td>\n",
       "      <td>10.000000</td>\n",
       "    </tr>\n",
       "    <tr>\n",
       "      <th>25%</th>\n",
       "      <td>20.000000</td>\n",
       "      <td>3.000000</td>\n",
       "      <td>1.000000</td>\n",
       "      <td>1.000000</td>\n",
       "      <td>1.000000</td>\n",
       "      <td>0.339937</td>\n",
       "      <td>0.251238</td>\n",
       "      <td>0.383549</td>\n",
       "      <td>0.231597</td>\n",
       "      <td>0.365905</td>\n",
       "      <td>0.218726</td>\n",
       "      <td>8.000000</td>\n",
       "      <td>8.000000</td>\n",
       "      <td>31.750000</td>\n",
       "    </tr>\n",
       "    <tr>\n",
       "      <th>50%</th>\n",
       "      <td>29.500000</td>\n",
       "      <td>3.000000</td>\n",
       "      <td>1.000000</td>\n",
       "      <td>1.000000</td>\n",
       "      <td>1.000000</td>\n",
       "      <td>0.459599</td>\n",
       "      <td>0.281807</td>\n",
       "      <td>0.418449</td>\n",
       "      <td>0.283099</td>\n",
       "      <td>0.516497</td>\n",
       "      <td>0.289612</td>\n",
       "      <td>11.000000</td>\n",
       "      <td>11.000000</td>\n",
       "      <td>51.500000</td>\n",
       "    </tr>\n",
       "    <tr>\n",
       "      <th>75%</th>\n",
       "      <td>37.000000</td>\n",
       "      <td>3.000000</td>\n",
       "      <td>1.000000</td>\n",
       "      <td>1.000000</td>\n",
       "      <td>1.000000</td>\n",
       "      <td>0.502348</td>\n",
       "      <td>0.317145</td>\n",
       "      <td>0.497047</td>\n",
       "      <td>0.316203</td>\n",
       "      <td>0.632105</td>\n",
       "      <td>0.386948</td>\n",
       "      <td>13.000000</td>\n",
       "      <td>13.000000</td>\n",
       "      <td>70.250000</td>\n",
       "    </tr>\n",
       "    <tr>\n",
       "      <th>max</th>\n",
       "      <td>44.000000</td>\n",
       "      <td>6.000000</td>\n",
       "      <td>1.000000</td>\n",
       "      <td>1.000000</td>\n",
       "      <td>1.000000</td>\n",
       "      <td>0.638933</td>\n",
       "      <td>0.404130</td>\n",
       "      <td>0.787964</td>\n",
       "      <td>0.424727</td>\n",
       "      <td>0.861241</td>\n",
       "      <td>0.526059</td>\n",
       "      <td>16.000000</td>\n",
       "      <td>16.000000</td>\n",
       "      <td>102.000000</td>\n",
       "    </tr>\n",
       "  </tbody>\n",
       "</table>\n",
       "</div>"
      ],
      "text/plain": [
       "       opt_iterations  iterations  precision     recall    f1score  \\\n",
       "count       76.000000   76.000000  76.000000  76.000000  76.000000   \n",
       "mean        28.894737    3.131579   0.987246   0.986337   0.986642   \n",
       "std          9.291687    0.442481   0.042728   0.051611   0.046362   \n",
       "min         12.000000    3.000000   0.777778   0.714286   0.769231   \n",
       "25%         20.000000    3.000000   1.000000   1.000000   1.000000   \n",
       "50%         29.500000    3.000000   1.000000   1.000000   1.000000   \n",
       "75%         37.000000    3.000000   1.000000   1.000000   1.000000   \n",
       "max         44.000000    6.000000   1.000000   1.000000   1.000000   \n",
       "\n",
       "       uncertainty_mean  uncertainty_std  margin_mean  margin_std  \\\n",
       "count         76.000000        76.000000    76.000000   76.000000   \n",
       "mean           0.431067         0.284940     0.441722    0.277355   \n",
       "std            0.111050         0.048715     0.112932    0.061390   \n",
       "min            0.165321         0.193923     0.214387    0.112534   \n",
       "25%            0.339937         0.251238     0.383549    0.231597   \n",
       "50%            0.459599         0.281807     0.418449    0.283099   \n",
       "75%            0.502348         0.317145     0.497047    0.316203   \n",
       "max            0.638933         0.404130     0.787964    0.424727   \n",
       "\n",
       "       entropy_mean  entropy_std         n1         n2           z  \n",
       "count     76.000000    76.000000  76.000000  76.000000   76.000000  \n",
       "mean       0.496603     0.293873  10.394737  10.342105   52.815789  \n",
       "std        0.179043     0.113034   3.183620   3.243671   26.076662  \n",
       "min        0.011940     0.018335   5.000000   5.000000   10.000000  \n",
       "25%        0.365905     0.218726   8.000000   8.000000   31.750000  \n",
       "50%        0.516497     0.289612  11.000000  11.000000   51.500000  \n",
       "75%        0.632105     0.386948  13.000000  13.000000   70.250000  \n",
       "max        0.861241     0.526059  16.000000  16.000000  102.000000  "
      ]
     },
     "execution_count": 6,
     "metadata": {},
     "output_type": "execute_result"
    }
   ],
   "source": [
    "results.describe()"
   ]
  },
  {
   "cell_type": "code",
   "execution_count": 7,
   "id": "b4493814-af93-44c5-a835-17d7f6f085b6",
   "metadata": {},
   "outputs": [
    {
     "name": "stderr",
     "output_type": "stream",
     "text": [
      "/tmp/ipykernel_1364355/2773700746.py:7: UserWarning: Matplotlib is currently using module://matplotlib_inline.backend_inline, which is a non-GUI backend, so cannot show the figure.\n",
      "  fig.show()\n"
     ]
    },
    {
     "data": {
      "image/png": "[encoded data removed]",
      "text/plain": [
       "<Figure size 432x288 with 2 Axes>"
      ]
     },
     "metadata": {
      "needs_background": "light"
     },
     "output_type": "display_data"
    },
    {
     "data": {
      "image/png": "[encoded data removed]",
      "text/plain": [
       "<Figure size 432x288 with 2 Axes>"
      ]
     },
     "metadata": {
      "needs_background": "light"
     },
     "output_type": "display_data"
    },
    {
     "data": {
      "image/png": "[encoded data removed]",
      "text/plain": [
       "<Figure size 432x288 with 2 Axes>"
      ]
     },
     "metadata": {
      "needs_background": "light"
     },
     "output_type": "display_data"
    },
    {
     "data": {
      "image/png": "[encoded data removed]",
      "text/plain": [
       "<Figure size 432x288 with 2 Axes>"
      ]
     },
     "metadata": {
      "needs_background": "light"
     },
     "output_type": "display_data"
    },
    {
     "data": {
      "image/png": "[encoded data removed]",
      "text/plain": [
       "<Figure size 432x288 with 2 Axes>"
      ]
     },
     "metadata": {
      "needs_background": "light"
     },
     "output_type": "display_data"
    },
    {
     "data": {
      "image/png": "[encoded data removed]",
      "text/plain": [
       "<Figure size 432x288 with 2 Axes>"
      ]
     },
     "metadata": {
      "needs_background": "light"
     },
     "output_type": "display_data"
    },
    {
     "data": {
      "image/png": "[encoded data removed]",
      "text/plain": [
       "<Figure size 432x288 with 2 Axes>"
      ]
     },
     "metadata": {
      "needs_background": "light"
     },
     "output_type": "display_data"
    },
    {
     "data": {
      "image/png": "[encoded data removed]",
      "text/plain": [
       "<Figure size 432x288 with 2 Axes>"
      ]
     },
     "metadata": {
      "needs_background": "light"
     },
     "output_type": "display_data"
    }
   ],
   "source": [
    "for z in results.loc[results[\"f1score\"] != 1.0, \"z\"]:\n",
    "    fig, axs = plt.subplots(ncols=2)\n",
    "    axs[0].imshow(mask[z].to_numpy() != 0, cmap=\"Greys_r\")\n",
    "    axs[1].imshow(mask[z + 1].to_numpy() != 0, cmap=\"Greys_r\")\n",
    "    axs[0].axis(\"off\")\n",
    "    axs[1].axis(\"off\")\n",
    "    fig.show()"
   ]
  }
 ],
 "metadata": {
  "kernelspec": {
   "display_name": "Python 3 (ipykernel)",
   "language": "python",
   "name": "python3"
  },
  "language_info": {
   "codemirror_mode": {
    "name": "ipython",
    "version": 3
   },
   "file_extension": ".py",
   "mimetype": "text/x-python",
   "name": "python",
   "nbconvert_exporter": "python",
   "pygments_lexer": "ipython3",
   "version": "3.9.12"
  }
 },
 "nbformat": 4,
 "nbformat_minor": 5
}
