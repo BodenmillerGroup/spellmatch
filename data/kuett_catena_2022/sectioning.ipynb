{
 "cells": [
  {
   "cell_type": "markdown",
   "metadata": {},
   "source": [
    "# Computational sectioning"
   ]
  },
  {
   "cell_type": "code",
   "execution_count": null,
   "metadata": {},
   "outputs": [],
   "source": [
    "#!python -m pip install numpy pandas scikit-image simutome tifffile"
   ]
  },
  {
   "cell_type": "code",
   "execution_count": null,
   "metadata": {},
   "outputs": [],
   "source": [
    "from pathlib import Path\n",
    "\n",
    "import numpy as np\n",
    "import pandas as pd\n",
    "from simutome.estim import CellSlicer\n",
    "from skimage.morphology import binary_erosion, disk\n",
    "from tifffile import imread, imwrite"
   ]
  },
  {
   "cell_type": "code",
   "execution_count": null,
   "metadata": {},
   "outputs": [],
   "source": [
    "img_file = \"sectioning/img.tiff\"\n",
    "mask_file = \"sectioning/mask.tiff\"\n",
    "panel_file = \"sectioning/panel.csv\"\n",
    "voxel_size_um = (2.0, 1.0, 1.0)\n",
    "\n",
    "sectioning_axes = [2, 1, 0]\n",
    "section_thicknesses_um = [2.0, 4.0, 6.0, 8.0, 10.0]\n",
    "min_proj_cell_slice_area_um2 = 5.0\n",
    "\n",
    "cell_data_file = \"sectioning/cell_data.csv\"\n",
    "cell_slice_data_file = \"sectioning/cell_slice_data.csv\"\n",
    "cell_slice_displacement_data_file = \"sectioning/cell_slice_displacement_data.csv\""
   ]
  },
  {
   "cell_type": "markdown",
   "metadata": {},
   "source": [
    "## Data preparation"
   ]
  },
  {
   "cell_type": "code",
   "execution_count": null,
   "metadata": {},
   "outputs": [],
   "source": [
    "# sort layers\n",
    "layer_info = pd.read_csv(\n",
    "    \"raw/MainHer2BreastCancerModel/final_3D_stack_order_model201710.csv\",\n",
    "    names=[\"image\", \"order\"],\n",
    ")\n",
    "img_file_stems = layer_info.sort_values(\"order\")[\"image\"].tolist()\n",
    "\n",
    "# sort channels\n",
    "channel_dirs = sorted(\n",
    "    Path(\"raw/MainHer2BreastCancerModel/SIMILARITY10_Nd148\").iterdir(),\n",
    "    key=lambda p: int(p.name[2:]),\n",
    ")\n",
    "\n",
    "# cropping (see raw/MainHer2BreastCancerModel/roi_overlapping_coordinates)\n",
    "img_slice = np.s_[448:936, 386:1038]\n",
    "orig_panel = pd.read_csv(\"raw/MainHer2BreastCancerModel/model201710_panel.csv\")\n",
    "channel_mask = orig_panel.loc[\n",
    "    orig_panel[\"singleTIFFs\"] == 1,\n",
    "    \"MeasureMask\"\n",
    "].to_numpy() == 1\n",
    "\n",
    "# read image\n",
    "layer_imgs = []\n",
    "for i, img_file_stem in enumerate(img_file_stems):\n",
    "    channel_imgs = []\n",
    "    for channel_dir in channel_dirs:\n",
    "        channel_img = imread(\n",
    "            channel_dir / f\"{i + 1:04d}_{img_file_stem}_{channel_dir.name}.tif\"\n",
    "        )[img_slice]\n",
    "        channel_imgs.append(channel_img)\n",
    "    layer_img = np.stack(channel_imgs)[channel_mask, :, :]\n",
    "    layer_imgs.append(layer_img)\n",
    "img = np.stack(layer_imgs)"
   ]
  },
  {
   "cell_type": "code",
   "execution_count": null,
   "metadata": {},
   "outputs": [],
   "source": [
    "# read mask\n",
    "mask = imread(\n",
    "    \"raw/MainHer2BreastCancerModel/measured_mask_final_segmentation_hwatershed_500.00_90%.tif\"\n",
    ")\n",
    "\n",
    "# erode previously dilated mask\n",
    "mask *= binary_erosion(mask != 0, disk(1.0)[None, :, :])\n",
    "\n",
    "# remove border cells to avoid biases\n",
    "border_cells = np.unique(\n",
    "    np.concatenate(\n",
    "        (\n",
    "            np.unique(mask[[0, -1], :, :]),\n",
    "            np.unique(mask[:, [0, -1], :]),\n",
    "            np.unique(mask[:, :, [0, -1]]),\n",
    "        )\n",
    "    )\n",
    ")\n",
    "mask[np.isin(mask, border_cells)] = 0\n",
    "\n",
    "assert mask.ndim == 3\n",
    "assert mask.shape[0] == img.shape[0]\n",
    "assert mask.shape[1:] == img.shape[2:]"
   ]
  },
  {
   "cell_type": "code",
   "execution_count": null,
   "metadata": {},
   "outputs": [],
   "source": [
    "# crop image & mask to speed up computation\n",
    "ix = np.flatnonzero(np.amax(mask, axis=(0, 1)) != 0)\n",
    "iy = np.flatnonzero(np.amax(mask, axis=(0, 2)) != 0)\n",
    "iz = np.flatnonzero(np.amax(mask, axis=(1, 2)) != 0)\n",
    "img = img[:, :, :, np.amin(ix):np.amax(ix) + 1]\n",
    "img = img[:, :, np.amin(iy):np.amax(iy) + 1, :]\n",
    "img = img[np.amin(iz):np.amax(iz) + 1, :, :, :]\n",
    "mask = mask[:, :, np.amin(ix):np.amax(ix) + 1]\n",
    "mask = mask[:, np.amin(iy):np.amax(iy) + 1, :]\n",
    "mask = mask[np.amin(iz):np.amax(iz) + 1, :, :]"
   ]
  },
  {
   "cell_type": "code",
   "execution_count": null,
   "metadata": {},
   "outputs": [],
   "source": [
    "# read panel\n",
    "orig_panel = pd.read_csv(\"raw/MainHer2BreastCancerModel/model201710_panel.csv\")\n",
    "orig_panel = orig_panel[orig_panel[\"MeasureMask\"] == 1]\n",
    "assert len(orig_panel.index) == img.shape[1]\n",
    "channel_names = orig_panel[\"clean_target\"].tolist()\n",
    "channel_labels = orig_panel[\"Target\"].tolist()\n",
    "panel = pd.DataFrame(\n",
    "    data={\n",
    "        \"name\": channel_names,\n",
    "        \"label\": channel_labels,\n",
    "    }\n",
    ")\n",
    "assert len(panel.index) == img.shape[1]"
   ]
  },
  {
   "cell_type": "code",
   "execution_count": null,
   "metadata": {},
   "outputs": [],
   "source": [
    "# write data\n",
    "Path(\"sectioning\").mkdir(exist_ok=True)\n",
    "imwrite(img_file, data=img)\n",
    "imwrite(mask_file, data=mask)\n",
    "panel.to_csv(panel_file, index=False)"
   ]
  },
  {
   "cell_type": "markdown",
   "metadata": {},
   "source": [
    "## Computational sectioning"
   ]
  },
  {
   "cell_type": "code",
   "execution_count": null,
   "metadata": {},
   "outputs": [],
   "source": [
    "img = imread(img_file)\n",
    "mask = imread(mask_file)\n",
    "panel = pd.read_csv(panel_file)\n",
    "cell_slicer = CellSlicer(\n",
    "    mask,\n",
    "    image=img,\n",
    "    channel_names=panel[\"name\"].tolist(),\n",
    "    voxel_size_um=voxel_size_um,\n",
    ")"
   ]
  },
  {
   "cell_type": "code",
   "execution_count": null,
   "metadata": {},
   "outputs": [],
   "source": [
    "cell_data = cell_slicer.measure_cells(sectioning_axes, progress=True)\n",
    "cell_data.insert(\n",
    "    1,\n",
    "    \"sectioning_axis_name\",\n",
    "    np.array([\"z\", \"y\", \"x\"])[cell_data[\"sectioning_axis\"].values],\n",
    ")\n",
    "cell_data[\"cell_radius_um\"] = (0.75 * cell_data[\"cell_volume_um3\"] / np.pi) ** (1 / 3)\n",
    "cell_data[\"proj_cell_radius_um\"] = (cell_data[\"proj_cell_area_um2\"] / np.pi) ** 0.5\n",
    "cell_data.to_csv(cell_data_file, index=False)"
   ]
  },
  {
   "cell_type": "code",
   "execution_count": null,
   "metadata": {},
   "outputs": [],
   "source": [
    "for i, sectioning_axis in enumerate(sectioning_axes):    \n",
    "    cell_slice_data = cell_slicer.measure_cell_slices(\n",
    "        [sectioning_axis], section_thicknesses_um, progress=True\n",
    "    )\n",
    "    cell_slice_data = cell_slice_data[\n",
    "        cell_slice_data[\"proj_cell_slice_area_um2\"] >= min_proj_cell_slice_area_um2\n",
    "    ]\n",
    "    cell_slice_data.insert(\n",
    "        1,\n",
    "        \"sectioning_axis_name\",\n",
    "        np.array([\"z\", \"y\", \"x\"])[cell_slice_data[\"sectioning_axis\"].values],\n",
    "    )\n",
    "    cell_slice_data[\"cell_slice_radius_um\"] = (\n",
    "        0.75 * cell_slice_data[\"cell_slice_volume_um3\"] / np.pi\n",
    "    ) ** (1.0 / 3.0)\n",
    "    cell_slice_data[\"proj_cell_slice_radius_um\"] = (\n",
    "        cell_slice_data[\"proj_cell_slice_area_um2\"] / np.pi\n",
    "    ) ** 0.5\n",
    "    cell_slice_data.to_csv(\n",
    "        cell_slice_data_file,\n",
    "        header=(i == 0),\n",
    "        index=False,\n",
    "        mode=(\"w\" if i == 0 else \"a\"),\n",
    "    )"
   ]
  },
  {
   "cell_type": "code",
   "execution_count": null,
   "metadata": {},
   "outputs": [],
   "source": [
    "cell_index_cols = [\n",
    "    \"sectioning_axis\",\n",
    "    \"sectioning_axis_name\",\n",
    "    \"section_thickness_um\",\n",
    "    \"section_offset_um\",\n",
    "    \"cell_id\",\n",
    "]\n",
    "cell_slice_centroid_cols = [\n",
    "    \"cell_slice_centroid_x_um\",\n",
    "    \"cell_slice_centroid_y_um\",\n",
    "    \"cell_slice_centroid_z_um\",\n",
    "]\n",
    "proj_cell_slice_centroid_cols = [\n",
    "    \"proj_cell_slice_centroid_x_um\",\n",
    "    \"proj_cell_slice_centroid_y_um\",\n",
    "    \"proj_cell_slice_centroid_z_um\",\n",
    "]\n",
    "cell_slice_centroid_displacement_cols = [\n",
    "    \"cell_slice_centroid_displacement_x_um\",\n",
    "    \"cell_slice_centroid_displacement_y_um\",\n",
    "    \"cell_slice_centroid_displacement_z_um\",\n",
    "]\n",
    "proj_cell_slice_centroid_displacement_cols = [\n",
    "    \"proj_cell_slice_centroid_displacement_x_um\",\n",
    "    \"proj_cell_slice_centroid_displacement_y_um\",\n",
    "    \"proj_cell_slice_centroid_displacement_z_um\",\n",
    "]\n",
    "cell_slice_displacement_data = cell_slice_data.set_index(\n",
    "    cell_index_cols + [\"cell_slice_number\"]\n",
    ").sort_index()\n",
    "cell_slice_displacement_data = cell_slice_displacement_data[\n",
    "    cell_slice_centroid_cols + proj_cell_slice_centroid_cols\n",
    "]\n",
    "cell_slice_displacement_data = (\n",
    "    cell_slice_displacement_data\n",
    "    - cell_slice_displacement_data.groupby(cell_index_cols, sort=False).shift()\n",
    ")\n",
    "cell_slice_displacement_data.rename(\n",
    "    columns=dict(\n",
    "        zip(cell_slice_centroid_cols, cell_slice_centroid_displacement_cols)\n",
    "    ),\n",
    "    inplace=True,\n",
    ")\n",
    "cell_slice_displacement_data.rename(\n",
    "    columns=dict(\n",
    "        zip(proj_cell_slice_centroid_cols, proj_cell_slice_centroid_displacement_cols)\n",
    "    ),\n",
    "    inplace=True,\n",
    ")\n",
    "cell_slice_displacement_data.dropna(\n",
    "    inplace=True, subset=cell_slice_centroid_displacement_cols\n",
    ")\n",
    "cell_slice_displacement_data.reset_index(inplace=True)\n",
    "cell_slice_displacement_data.to_csv(cell_slice_displacement_data_file, index=False)"
   ]
  }
 ],
 "metadata": {
  "interpreter": {
   "hash": "48552f1e0085238a3740c4463b23e5f53bb0e70392f2ba74f46eff445f4a3441"
  },
  "kernelspec": {
   "display_name": "Python 3 (ipykernel)",
   "language": "python",
   "name": "python3"
  },
  "language_info": {
   "codemirror_mode": {
    "name": "ipython",
    "version": 3
   },
   "file_extension": ".py",
   "mimetype": "text/x-python",
   "name": "python",
   "nbconvert_exporter": "python",
   "pygments_lexer": "ipython3",
   "version": "3.9.7"
  }
 },
 "nbformat": 4,
 "nbformat_minor": 4
}
