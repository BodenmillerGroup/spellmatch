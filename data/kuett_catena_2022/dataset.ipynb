{
 "cells": [
  {
   "cell_type": "markdown",
   "metadata": {},
   "source": [
    "# Kuett & Catena et al. (Nature Cancer, 2021)"
   ]
  },
  {
   "cell_type": "code",
   "execution_count": 1,
   "metadata": {
    "tags": []
   },
   "outputs": [],
   "source": [
    "#!python -m pip install deepcell \"napari[all]\" numpy pandas tifffile \"typing-extensions>=3.10.0.0\""
   ]
  },
  {
   "cell_type": "code",
   "execution_count": 2,
   "metadata": {},
   "outputs": [
    {
     "name": "stderr",
     "output_type": "stream",
     "text": [
      "2022-03-04 16:14:07.739994: W tensorflow/stream_executor/platform/default/dso_loader.cc:64] Could not load dynamic library 'libcudart.so.11.0'; dlerror: libcudart.so.11.0: cannot open shared object file: No such file or directory; LD_LIBRARY_PATH: /home/jonas/miniconda3/envs/deepcell/lib/python3.9/site-packages/cv2/../../lib64:\n",
      "2022-03-04 16:14:07.740011: I tensorflow/stream_executor/cuda/cudart_stub.cc:29] Ignore above cudart dlerror if you do not have a GPU set up on your machine.\n"
     ]
    }
   ],
   "source": [
    "from pathlib import Path\n",
    "\n",
    "import napari\n",
    "import numpy as np\n",
    "import pandas as pd\n",
    "import tifffile\n",
    "from deepcell.applications import Mesmer"
   ]
  },
  {
   "cell_type": "code",
   "execution_count": 4,
   "metadata": {},
   "outputs": [],
   "source": [
    "raw_img_dir = \"raw/MainHer2BreastCancerModel/main_model_201710_unaligned_tiff/201710\"\n",
    "raw_panel_file = \"raw/MainHer2BreastCancerModel/model201710_panel.csv\"\n",
    "raw_channel_order_file = \"raw/MainHer2BreastCancerModel/channel_order_model201710.csv\"\n",
    "\n",
    "layer_pairs = [\n",
    "    (\"28_9_ROI 10_10.tiff\", \"27_8_ROI 09_9.tiff\"),\n",
    "    (\"54_1_ROI 01_1.tiff\", \"55_2_ROI 02_2.tiff\"),\n",
    "    (\"79_6_ROI 06_6.tiff\", \"80_7_ROI 07_7.tiff\"),\n",
    "    (\"106_12_ROI 13_13.tiff\", \"107_13_ROI 14_14.tiff\"),\n",
    "    (\"129_2_ROI 02_2.tiff\", \"130_3_ROI 03_3.tiff\"),\n",
    "]\n",
    "\n",
    "shared_channels = [\n",
    "    \"Histone H3\",\n",
    "    \"CD68\",\n",
    "    \"CD45\",\n",
    "    \"vWF+ CD31\",\n",
    "    \"panCK\",\n",
    "    \"SMA\",\n",
    "    # \"MPO\",\n",
    "    # \"Ir191\",\n",
    "    # \"Ir193\",\n",
    "]\n",
    "\n",
    "source_channels = shared_channels + [\n",
    "    \"CK7\",\n",
    "    \"CK14\",\n",
    "    \"E/P-Cadherin\",\n",
    "    \"CD44\",\n",
    "    \"pS6\",\n",
    "    \"Collagen I\",\n",
    "    \"CD3\",\n",
    "    \"CD8a\",\n",
    "    \"cPARP+cCasp3\",\n",
    "]\n",
    "\n",
    "target_channels = shared_channels + [\n",
    "    \"CK19\",\n",
    "    \"CK5\",\n",
    "    \"HER2 (bis)\",\n",
    "    \"CK8/18\",\n",
    "    \"phospho-H3\",\n",
    "    \"Vimentin\",\n",
    "    \"CD20\",\n",
    "    \"CD138\",\n",
    "    \"Ki-67\",\n",
    "]\n",
    "\n",
    "shared_nuclear_channels = [\"Histone H3\"]"
   ]
  },
  {
   "cell_type": "markdown",
   "metadata": {},
   "source": [
    "## Data download"
   ]
  },
  {
   "cell_type": "markdown",
   "metadata": {},
   "source": [
    "1. Download the file `MainHer2BreastCancerModel.zip` from https://zenodo.org/record/5782846 (version 3)\n",
    "2. Extract its contents of `MainHer2BreastCancerModel.zip` to the `raw` directory (create the directory if it does not exist)\n",
    "3. Extract the contents of `raw/MainHer2BreastCancerModel/main_model_201710_unaligned_tiff.zip` to the `raw/MainHer2BreastCancerModel` directory."
   ]
  },
  {
   "cell_type": "markdown",
   "metadata": {},
   "source": [
    "## Panel creation"
   ]
  },
  {
   "cell_type": "code",
   "execution_count": 5,
   "metadata": {},
   "outputs": [],
   "source": [
    "raw_panel = pd.read_csv(raw_panel_file)\n",
    "\n",
    "source_panel = raw_panel[raw_panel[\"clean_target\"].isin(source_channels)]\n",
    "source_panel = source_panel.rename(columns={\"clean_target\": \"name\"})\n",
    "source_panel.to_csv(\"source_panel.csv\", index=False)\n",
    "\n",
    "target_panel = raw_panel[raw_panel[\"clean_target\"].isin(target_channels)]\n",
    "target_panel = target_panel.rename(columns={\"clean_target\": \"name\"})\n",
    "target_panel.to_csv(\"target_panel.csv\", index=False)"
   ]
  },
  {
   "cell_type": "markdown",
   "metadata": {},
   "source": [
    "## Image extraction"
   ]
  },
  {
   "cell_type": "code",
   "execution_count": 6,
   "metadata": {},
   "outputs": [
    {
     "name": "stdout",
     "output_type": "stream",
     "text": [
      "0 28_9_ROI 10_10.tiff 27_8_ROI 09_9.tiff\n",
      "1 54_1_ROI 01_1.tiff 55_2_ROI 02_2.tiff\n",
      "2 79_6_ROI 06_6.tiff 80_7_ROI 07_7.tiff\n",
      "3 106_12_ROI 13_13.tiff 107_13_ROI 14_14.tiff\n",
      "4 129_2_ROI 02_2.tiff 130_3_ROI 03_3.tiff\n"
     ]
    }
   ],
   "source": [
    "raw_panel = pd.read_csv(raw_panel_file)\n",
    "raw_channel_order = pd.read_csv(raw_channel_order_file, names=[\"Metal Tag\", \"Channel\"])\n",
    "raw_panel_and_channel_order = pd.merge(raw_panel, raw_channel_order, on=\"Metal Tag\")\n",
    "source_channel_indices = raw_panel_and_channel_order.loc[\n",
    "    raw_panel_and_channel_order[\"clean_target\"].isin(source_channels), \"Channel\"\n",
    "].tolist()\n",
    "target_channel_indices = raw_panel_and_channel_order.loc[\n",
    "    raw_panel_and_channel_order[\"clean_target\"].isin(target_channels), \"Channel\"\n",
    "].tolist()\n",
    "\n",
    "source_img_dir = Path(\"source_img\")\n",
    "target_img_dir = Path(\"target_img\")\n",
    "source_img_dir.mkdir(exist_ok=True)\n",
    "target_img_dir.mkdir(exist_ok=True)\n",
    "for i, (source_img_file_name, target_img_file_name) in enumerate(layer_pairs):\n",
    "    source_img = tifffile.imread(Path(raw_img_dir) / source_img_file_name)\n",
    "    target_img = tifffile.imread(Path(raw_img_dir) / target_img_file_name)\n",
    "    tifffile.imwrite(\n",
    "        source_img_dir / f\"{i:02d}_{source_img_file_name}\",\n",
    "        data=source_img[source_channel_indices],\n",
    "    )\n",
    "    tifffile.imwrite(\n",
    "        target_img_dir / f\"{i:02d}_{target_img_file_name}\",\n",
    "        data=target_img[target_channel_indices],\n",
    "    )\n",
    "    print(i, source_img_file_name, target_img_file_name)"
   ]
  },
  {
   "cell_type": "markdown",
   "metadata": {},
   "source": [
    "## Image segmentation"
   ]
  },
  {
   "cell_type": "code",
   "execution_count": 7,
   "metadata": {},
   "outputs": [
    {
     "name": "stdout",
     "output_type": "stream",
     "text": [
      "WARNING:tensorflow:SavedModel saved prior to TF 2.5 detected when loading Keras model. Please ensure that you are saving the model with model.save() or tf.keras.models.save_model(), *NOT* tf.saved_model.save(). To confirm, there should be a file named \"keras_metadata.pb\" in the SavedModel directory.\n"
     ]
    },
    {
     "name": "stderr",
     "output_type": "stream",
     "text": [
      "2022-03-04 16:14:32.847107: I tensorflow/stream_executor/platform/default/dso_loader.cc:53] Successfully opened dynamic library libcuda.so.1\n",
      "2022-03-04 16:14:34.251876: E tensorflow/stream_executor/cuda/cuda_driver.cc:328] failed call to cuInit: CUDA_ERROR_NO_DEVICE: no CUDA-capable device is detected\n",
      "2022-03-04 16:14:34.251896: I tensorflow/stream_executor/cuda/cuda_diagnostics.cc:156] kernel driver does not appear to be running on this host (IMLS-P-JWI): /proc/driver/nvidia/version does not exist\n",
      "2022-03-04 16:14:34.252507: I tensorflow/core/platform/cpu_feature_guard.cc:142] This TensorFlow binary is optimized with oneAPI Deep Neural Network Library (oneDNN) to use the following CPU instructions in performance-critical operations:  AVX2 FMA\n",
      "To enable them in other operations, rebuild TensorFlow with the appropriate compiler flags.\n"
     ]
    },
    {
     "name": "stdout",
     "output_type": "stream",
     "text": [
      "WARNING:tensorflow:No training configuration found in save file, so the model was *not* compiled. Compile it manually.\n"
     ]
    },
    {
     "name": "stderr",
     "output_type": "stream",
     "text": [
      "2022-03-04 16:14:40.519199: I tensorflow/compiler/mlir/mlir_graph_optimization_pass.cc:176] None of the MLIR Optimization Passes are enabled (registered 2)\n",
      "2022-03-04 16:14:40.536360: I tensorflow/core/platform/profile_utils/cpu_utils.cc:114] CPU Frequency: 2899885000 Hz\n"
     ]
    },
    {
     "name": "stdout",
     "output_type": "stream",
     "text": [
      "00_28_9_ROI 10_10.tiff\n",
      "01_54_1_ROI 01_1.tiff\n",
      "02_79_6_ROI 06_6.tiff\n",
      "03_106_12_ROI 13_13.tiff\n",
      "04_129_2_ROI 02_2.tiff\n",
      "00_27_8_ROI 09_9.tiff\n",
      "01_55_2_ROI 02_2.tiff\n",
      "02_80_7_ROI 07_7.tiff\n",
      "03_107_13_ROI 14_14.tiff\n",
      "04_130_3_ROI 03_3.tiff\n"
     ]
    }
   ],
   "source": [
    "app = Mesmer()\n",
    "nuclear_source_channel_indices = [\n",
    "    source_channels.index(channel) for channel in shared_nuclear_channels\n",
    "]\n",
    "nuclear_target_channel_indices = [\n",
    "    target_channels.index(target) for target in shared_nuclear_channels\n",
    "]\n",
    "\n",
    "source_mask_dir = Path(\"source_masks\")\n",
    "source_mask_dir.mkdir(exist_ok=True)\n",
    "for source_img_file in sorted(Path(\"source_img\").glob(\"*.tiff\")):\n",
    "    source_img = tifffile.imread(source_img_file)\n",
    "    nuclear_source_img = np.mean(source_img[nuclear_source_channel_indices], axis=0)\n",
    "    source_mask = app.predict(\n",
    "        np.expand_dims(np.stack((nuclear_source_img, nuclear_source_img), axis=-1), 0),\n",
    "        compartment=\"nuclear\",\n",
    "    )[0, :, :, 0]\n",
    "    tifffile.imwrite(source_mask_dir / source_img_file.name, data=source_mask)\n",
    "    print(source_img_file.name)\n",
    "\n",
    "target_mask_dir = Path(\"target_masks\")\n",
    "target_mask_dir.mkdir(exist_ok=True)\n",
    "for target_img_file in sorted(Path(\"target_img\").glob(\"*.tiff\")):\n",
    "    target_img = tifffile.imread(target_img_file)\n",
    "    nuclear_target_img = np.mean(target_img[nuclear_target_channel_indices], axis=0)\n",
    "    target_mask = app.predict(\n",
    "        np.expand_dims(np.stack((nuclear_target_img, nuclear_target_img), axis=-1), 0),\n",
    "        compartment=\"nuclear\",\n",
    "    )[0, :, :, 0]\n",
    "    tifffile.imwrite(target_mask_dir / target_img_file.name, data=target_mask)\n",
    "    print(target_img_file.name)"
   ]
  },
  {
   "cell_type": "code",
   "execution_count": 9,
   "metadata": {},
   "outputs": [],
   "source": [
    "viewer = napari.Viewer()\n",
    "image_layers = viewer.open(\n",
    "    \"target_img/00_27_8_ROI 09_9.tiff\",\n",
    "    layer_type=\"image\",\n",
    "    channel_axis=0,\n",
    "    name=source_channels,\n",
    "    colormap=\"gray\",\n",
    "    visible=False,\n",
    ")\n",
    "mask_layer = viewer.open(\"target_masks/00_27_8_ROI 09_9.tiff\", layer_type=\"labels\")"
   ]
  }
 ],
 "metadata": {
  "interpreter": {
   "hash": "48552f1e0085238a3740c4463b23e5f53bb0e70392f2ba74f46eff445f4a3441"
  },
  "kernelspec": {
   "display_name": "Python 3 (ipykernel)",
   "language": "python",
   "name": "python3"
  },
  "language_info": {
   "codemirror_mode": {
    "name": "ipython",
    "version": 3
   },
   "file_extension": ".py",
   "mimetype": "text/x-python",
   "name": "python",
   "nbconvert_exporter": "python",
   "pygments_lexer": "ipython3",
   "version": "3.9.7"
  }
 },
 "nbformat": 4,
 "nbformat_minor": 4
}
