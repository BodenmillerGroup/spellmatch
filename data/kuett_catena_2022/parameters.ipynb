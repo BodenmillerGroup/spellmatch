{
 "cells": [
  {
   "cell_type": "markdown",
   "id": "34ba4527-a43d-462e-aa5e-8f922e1e46ae",
   "metadata": {},
   "source": [
    "# Semi-synthetic data generation parameters"
   ]
  },
  {
   "cell_type": "code",
   "execution_count": 1,
   "id": "229face8-5d6a-4c73-b506-8b31044dc02f",
   "metadata": {},
   "outputs": [],
   "source": [
    "import pandas as pd"
   ]
  },
  {
   "cell_type": "markdown",
   "id": "cc841b4d-519a-4890-8faf-c0eae3ca2053",
   "metadata": {},
   "source": [
    "## Cell exclusion parameters"
   ]
  },
  {
   "cell_type": "code",
   "execution_count": 3,
   "id": "bf2b4851-c747-4595-b61e-a781c2ccf42a",
   "metadata": {},
   "outputs": [],
   "source": [
    "cell_data = pd.read_csv(\"sectioning/cell_data.csv\")"
   ]
  },
  {
   "cell_type": "code",
   "execution_count": 4,
   "id": "52fd6abf-5516-475c-abaa-af1c7e31174f",
   "metadata": {},
   "outputs": [
    {
     "name": "stdout",
     "output_type": "stream",
     "text": [
      "Cell diameter mean: 7.9312735863614465\n",
      "Cell diameter SD: 1.7681411523960602\n"
     ]
    }
   ],
   "source": [
    "d_obs = 2 * cell_data.loc[cell_data[\"sectioning_axis_name\"] == \"z\", \"proj_cell_radius_um\"].to_numpy()\n",
    "print(\"Cell diameter mean:\", d_obs.mean())\n",
    "print(\"Cell diameter SD:\", d_obs.std())"
   ]
  },
  {
   "cell_type": "markdown",
   "id": "e9a2666a-f9fb-4fde-b86a-56abcd26833d",
   "metadata": {},
   "source": [
    "## Cell displacement parameters"
   ]
  },
  {
   "cell_type": "code",
   "execution_count": 3,
   "id": "96bea5a4-9ecf-4966-9e01-76d0ab337d89",
   "metadata": {},
   "outputs": [],
   "source": [
    "cell_slice_displacement_data = pd.read_csv(\"sectioning/cell_slice_displacement_data.csv\")"
   ]
  },
  {
   "cell_type": "code",
   "execution_count": 11,
   "id": "ca00235d-f27e-45ba-98ac-41be6fbfe5ca",
   "metadata": {},
   "outputs": [
    {
     "data": {
      "text/plain": [
       "section_thickness_um\n",
       "2.0     0.067800\n",
       "4.0     0.109723\n",
       "6.0     0.129425\n",
       "8.0     0.136598\n",
       "10.0    0.140165\n",
       "dtype: float64"
      ]
     },
     "execution_count": 11,
     "metadata": {},
     "output_type": "execute_result"
    }
   ],
   "source": [
    "cell_slice_displacement_data[\n",
    "    cell_slice_displacement_data[\"sectioning_axis_name\"] == \"z\"\n",
    "].groupby(\"section_thickness_um\")[\n",
    "    [\"cell_slice_centroid_displacement_x_um\", \"cell_slice_centroid_displacement_y_um\"]\n",
    "].mean().abs().mean(axis=1)"
   ]
  },
  {
   "cell_type": "code",
   "execution_count": 9,
   "id": "e26311ce-266b-4690-81d9-82e1a3515547",
   "metadata": {},
   "outputs": [
    {
     "data": {
      "text/plain": [
       "section_thickness_um\n",
       "2.0     1.009754\n",
       "4.0     1.589010\n",
       "6.0     1.866459\n",
       "8.0     1.970504\n",
       "10.0    2.002455\n",
       "dtype: float64"
      ]
     },
     "execution_count": 9,
     "metadata": {},
     "output_type": "execute_result"
    }
   ],
   "source": [
    "cell_slice_displacement_data[\n",
    "    cell_slice_displacement_data[\"sectioning_axis_name\"] == \"z\"\n",
    "].groupby(\"section_thickness_um\")[\n",
    "    [\"cell_slice_centroid_displacement_x_um\", \"cell_slice_centroid_displacement_y_um\"]\n",
    "].var().mean(axis=1)"
   ]
  }
 ],
 "metadata": {
  "kernelspec": {
   "display_name": "Python 3 (ipykernel)",
   "language": "python",
   "name": "python3"
  },
  "language_info": {
   "codemirror_mode": {
    "name": "ipython",
    "version": 3
   },
   "file_extension": ".py",
   "mimetype": "text/x-python",
   "name": "python",
   "nbconvert_exporter": "python",
   "pygments_lexer": "ipython3",
   "version": "3.9.7"
  }
 },
 "nbformat": 4,
 "nbformat_minor": 5
}
