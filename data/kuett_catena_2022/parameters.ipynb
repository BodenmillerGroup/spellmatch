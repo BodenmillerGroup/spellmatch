{
 "cells": [
  {
   "cell_type": "markdown",
   "id": "34ba4527-a43d-462e-aa5e-8f922e1e46ae",
   "metadata": {},
   "source": [
    "# Semi-synthetic data generation parameters"
   ]
  },
  {
   "cell_type": "code",
   "execution_count": 1,
   "id": "30ac3978-0284-418b-9c78-9465dfa54060",
   "metadata": {},
   "outputs": [],
   "source": [
    "#!python -m pip install pandas"
   ]
  },
  {
   "cell_type": "code",
   "execution_count": 2,
   "id": "229face8-5d6a-4c73-b506-8b31044dc02f",
   "metadata": {},
   "outputs": [],
   "source": [
    "import pandas as pd"
   ]
  },
  {
   "cell_type": "markdown",
   "id": "cc841b4d-519a-4890-8faf-c0eae3ca2053",
   "metadata": {},
   "source": [
    "## Cell exclusion parameters"
   ]
  },
  {
   "cell_type": "code",
   "execution_count": 3,
   "id": "bf2b4851-c747-4595-b61e-a781c2ccf42a",
   "metadata": {},
   "outputs": [],
   "source": [
    "cell_data = pd.read_csv(\"sectioning/cell_data.csv\")"
   ]
  },
  {
   "cell_type": "code",
   "execution_count": 4,
   "id": "52fd6abf-5516-475c-abaa-af1c7e31174f",
   "metadata": {},
   "outputs": [
    {
     "name": "stdout",
     "output_type": "stream",
     "text": [
      "Cell diameter mean: 7.9312735863614465\n",
      "Cell diameter SD: 1.7681411523960602\n"
     ]
    }
   ],
   "source": [
    "d_obs = 2 * cell_data.loc[cell_data[\"sectioning_axis_name\"] == \"z\", \"proj_cell_radius_um\"].to_numpy()\n",
    "print(\"Cell diameter mean:\", d_obs.mean())\n",
    "print(\"Cell diameter SD:\", d_obs.std())"
   ]
  },
  {
   "cell_type": "markdown",
   "id": "e9a2666a-f9fb-4fde-b86a-56abcd26833d",
   "metadata": {},
   "source": [
    "## Cell displacement parameters"
   ]
  },
  {
   "cell_type": "code",
   "execution_count": 5,
   "id": "96bea5a4-9ecf-4966-9e01-76d0ab337d89",
   "metadata": {},
   "outputs": [],
   "source": [
    "cell_slice_displacement_data = pd.read_csv(\"sectioning/cell_slice_displacement_data.csv\")"
   ]
  },
  {
   "cell_type": "code",
   "execution_count": 6,
   "id": "ca00235d-f27e-45ba-98ac-41be6fbfe5ca",
   "metadata": {},
   "outputs": [
    {
     "data": {
      "text/html": [
       "<div>\n",
       "<style scoped>\n",
       "    .dataframe tbody tr th:only-of-type {\n",
       "        vertical-align: middle;\n",
       "    }\n",
       "\n",
       "    .dataframe tbody tr th {\n",
       "        vertical-align: top;\n",
       "    }\n",
       "\n",
       "    .dataframe thead th {\n",
       "        text-align: right;\n",
       "    }\n",
       "</style>\n",
       "<table border=\"1\" class=\"dataframe\">\n",
       "  <thead>\n",
       "    <tr style=\"text-align: right;\">\n",
       "      <th></th>\n",
       "      <th>cell_slice_centroid_displacement_x_um</th>\n",
       "      <th>cell_slice_centroid_displacement_y_um</th>\n",
       "    </tr>\n",
       "    <tr>\n",
       "      <th>section_thickness_um</th>\n",
       "      <th></th>\n",
       "      <th></th>\n",
       "    </tr>\n",
       "  </thead>\n",
       "  <tbody>\n",
       "    <tr>\n",
       "      <th>2.0</th>\n",
       "      <td>-0.003080</td>\n",
       "      <td>-0.132519</td>\n",
       "    </tr>\n",
       "    <tr>\n",
       "      <th>4.0</th>\n",
       "      <td>-0.008996</td>\n",
       "      <td>-0.210450</td>\n",
       "    </tr>\n",
       "    <tr>\n",
       "      <th>6.0</th>\n",
       "      <td>-0.013035</td>\n",
       "      <td>-0.245814</td>\n",
       "    </tr>\n",
       "    <tr>\n",
       "      <th>8.0</th>\n",
       "      <td>-0.014257</td>\n",
       "      <td>-0.258939</td>\n",
       "    </tr>\n",
       "    <tr>\n",
       "      <th>10.0</th>\n",
       "      <td>-0.015445</td>\n",
       "      <td>-0.264885</td>\n",
       "    </tr>\n",
       "  </tbody>\n",
       "</table>\n",
       "</div>"
      ],
      "text/plain": [
       "                      cell_slice_centroid_displacement_x_um  \\\n",
       "section_thickness_um                                          \n",
       "2.0                                               -0.003080   \n",
       "4.0                                               -0.008996   \n",
       "6.0                                               -0.013035   \n",
       "8.0                                               -0.014257   \n",
       "10.0                                              -0.015445   \n",
       "\n",
       "                      cell_slice_centroid_displacement_y_um  \n",
       "section_thickness_um                                         \n",
       "2.0                                               -0.132519  \n",
       "4.0                                               -0.210450  \n",
       "6.0                                               -0.245814  \n",
       "8.0                                               -0.258939  \n",
       "10.0                                              -0.264885  "
      ]
     },
     "execution_count": 6,
     "metadata": {},
     "output_type": "execute_result"
    }
   ],
   "source": [
    "cell_slice_displacement_data[\n",
    "    cell_slice_displacement_data[\"sectioning_axis_name\"] == \"z\"\n",
    "].groupby(\"section_thickness_um\")[\n",
    "    [\"cell_slice_centroid_displacement_x_um\", \"cell_slice_centroid_displacement_y_um\"]\n",
    "].mean()"
   ]
  },
  {
   "cell_type": "code",
   "execution_count": 7,
   "id": "e26311ce-266b-4690-81d9-82e1a3515547",
   "metadata": {},
   "outputs": [
    {
     "data": {
      "text/html": [
       "<div>\n",
       "<style scoped>\n",
       "    .dataframe tbody tr th:only-of-type {\n",
       "        vertical-align: middle;\n",
       "    }\n",
       "\n",
       "    .dataframe tbody tr th {\n",
       "        vertical-align: top;\n",
       "    }\n",
       "\n",
       "    .dataframe thead th {\n",
       "        text-align: right;\n",
       "    }\n",
       "</style>\n",
       "<table border=\"1\" class=\"dataframe\">\n",
       "  <thead>\n",
       "    <tr style=\"text-align: right;\">\n",
       "      <th></th>\n",
       "      <th>cell_slice_centroid_displacement_x_um</th>\n",
       "      <th>cell_slice_centroid_displacement_y_um</th>\n",
       "    </tr>\n",
       "    <tr>\n",
       "      <th>section_thickness_um</th>\n",
       "      <th></th>\n",
       "      <th></th>\n",
       "    </tr>\n",
       "  </thead>\n",
       "  <tbody>\n",
       "    <tr>\n",
       "      <th>2.0</th>\n",
       "      <td>1.034331</td>\n",
       "      <td>0.974509</td>\n",
       "    </tr>\n",
       "    <tr>\n",
       "      <th>4.0</th>\n",
       "      <td>1.299430</td>\n",
       "      <td>1.220451</td>\n",
       "    </tr>\n",
       "    <tr>\n",
       "      <th>6.0</th>\n",
       "      <td>1.410136</td>\n",
       "      <td>1.320770</td>\n",
       "    </tr>\n",
       "    <tr>\n",
       "      <th>8.0</th>\n",
       "      <td>1.449648</td>\n",
       "      <td>1.356292</td>\n",
       "    </tr>\n",
       "    <tr>\n",
       "      <th>10.0</th>\n",
       "      <td>1.461651</td>\n",
       "      <td>1.366926</td>\n",
       "    </tr>\n",
       "  </tbody>\n",
       "</table>\n",
       "</div>"
      ],
      "text/plain": [
       "                      cell_slice_centroid_displacement_x_um  \\\n",
       "section_thickness_um                                          \n",
       "2.0                                                1.034331   \n",
       "4.0                                                1.299430   \n",
       "6.0                                                1.410136   \n",
       "8.0                                                1.449648   \n",
       "10.0                                               1.461651   \n",
       "\n",
       "                      cell_slice_centroid_displacement_y_um  \n",
       "section_thickness_um                                         \n",
       "2.0                                                0.974509  \n",
       "4.0                                                1.220451  \n",
       "6.0                                                1.320770  \n",
       "8.0                                                1.356292  \n",
       "10.0                                               1.366926  "
      ]
     },
     "execution_count": 7,
     "metadata": {},
     "output_type": "execute_result"
    }
   ],
   "source": [
    "cell_slice_displacement_data[\n",
    "    cell_slice_displacement_data[\"sectioning_axis_name\"] == \"z\"\n",
    "].groupby(\"section_thickness_um\")[\n",
    "    [\"cell_slice_centroid_displacement_x_um\", \"cell_slice_centroid_displacement_y_um\"]\n",
    "].std()"
   ]
  }
 ],
 "metadata": {
  "kernelspec": {
   "display_name": "Python 3 (ipykernel)",
   "language": "python",
   "name": "python3"
  },
  "language_info": {
   "codemirror_mode": {
    "name": "ipython",
    "version": 3
   },
   "file_extension": ".py",
   "mimetype": "text/x-python",
   "name": "python",
   "nbconvert_exporter": "python",
   "pygments_lexer": "ipython3",
   "version": "3.9.7"
  }
 },
 "nbformat": 4,
 "nbformat_minor": 5
}
