{
 "cells": [
  {
   "cell_type": "markdown",
   "metadata": {},
   "source": [
    "# Spellmatch parameter sensitivity analysis"
   ]
  },
  {
   "cell_type": "code",
   "execution_count": 1,
   "metadata": {},
   "outputs": [],
   "source": [
    "from functools import partial\n",
    "from pathlib import Path\n",
    "\n",
    "import numpy as np\n",
    "import pandas as pd\n",
    "from sklearn.model_selection import ParameterGrid\n",
    "from tqdm.auto import tqdm\n",
    "\n",
    "from spellmatch.assignment import assign\n",
    "from spellmatch.benchmark import AlgorithmConfig, Benchmark\n",
    "from spellmatch.benchmark.metrics import default_metrics\n",
    "from spellmatch.io import write_scores\n",
    "from spellmatch.matching.algorithms.spellmatch import Spellmatch\n",
    "\n",
    "rng = np.random.default_rng(seed=123)"
   ]
  },
  {
   "cell_type": "markdown",
   "metadata": {},
   "source": [
    "## Similarity/prior weights\n",
    "\n",
    "- Fixed simutome parameters\n",
    "- Fixed adjancy radius of $15 \\mu m$\n",
    "- Relative to an intensity weight of $1.0$"
   ]
  },
  {
   "cell_type": "code",
   "execution_count": 2,
   "metadata": {},
   "outputs": [],
   "source": [
    "source_points_dir = \"source_points\"\n",
    "source_intensities_dir = \"source_intensities\"\n",
    "source_clusters_dir = \"source_clusters\"\n",
    "\n",
    "simutome_kwargs = {\n",
    "    # assume minor mis-alignment\n",
    "    \"image_rotation\": 2.0 * np.pi / 180,\n",
    "    \"image_translation\": (1.0, 3.0),\n",
    "    # see ../kuett_catena_2022/parameters.ipynb\n",
    "    \"exclude_cells\": True,\n",
    "    \"section_thickness\": 2.0,\n",
    "    \"cell_diameter_mean\": 7.931,\n",
    "    \"cell_diameter_std\": 1.768,\n",
    "    # see ../kuett_catena_2022/parameters.ipynb\n",
    "    \"displace_cells\": True,\n",
    "    \"cell_displacement_mean\": 0.067,\n",
    "    \"cell_displacement_var\": 1.010,\n",
    "}\n",
    "simutome_param_grid = ParameterGrid({})\n",
    "num_sections = 1\n",
    "\n",
    "algorithm_configs = {\n",
    "    \"spellmatch\": AlgorithmConfig(\n",
    "        Spellmatch,\n",
    "        algorithm_kwargs={\n",
    "            \"intensity_transform\": np.arcsinh,\n",
    "            \"scores_tol\": 1e-6,\n",
    "            \"require_convergence\": True,\n",
    "            \"adj_radius\": 15,\n",
    "            \"intensity_weight\": 1.0,\n",
    "            \"intensity_interp_lmd\": 1.0,\n",
    "            \"intensity_shared_pca_n_components\": 10,\n",
    "            \"max_spatial_cdist\": 50.0,\n",
    "            \"require_opt_convergence\": True,\n",
    "        },\n",
    "        algorithm_param_grid=ParameterGrid(\n",
    "            {\n",
    "                \"prior\": [\n",
    "                    {\n",
    "                        \"alpha\": 0.9,\n",
    "                        \"spatial_cdist_prior_thres\": 25.0,\n",
    "                    },\n",
    "                    {\n",
    "                        \"alpha\": 0.99,\n",
    "                        \"spatial_cdist_prior_thres\": 25.0,\n",
    "                    },\n",
    "                    {\n",
    "                        \"alpha\": 0.999,\n",
    "                        \"spatial_cdist_prior_thres\": 25.0,\n",
    "                    },\n",
    "                    {\n",
    "                        \"alpha\": 1.0,\n",
    "                    },\n",
    "                ],\n",
    "                \"degrees\": [\n",
    "                    {\n",
    "                        \"degree_weight\": 0.0,\n",
    "                    },\n",
    "                    {\n",
    "                        \"degree_weight\": 0.01,\n",
    "                        \"degree_cdiff_thres\": 3,\n",
    "                    },\n",
    "                    {\n",
    "                        \"degree_weight\": 0.1,\n",
    "                        \"degree_cdiff_thres\": 3,\n",
    "                    },\n",
    "                    {\n",
    "                        \"degree_weight\": 1.0,\n",
    "                        \"degree_cdiff_thres\": 3,\n",
    "                    },\n",
    "                ],\n",
    "                \"distances\": [\n",
    "                    {\n",
    "                        \"distance_weight\": 0.0,\n",
    "                    },\n",
    "                    {\n",
    "                        \"distance_weight\": 0.01,\n",
    "                        \"distance_cdiff_thres\": 5.0,\n",
    "                    },\n",
    "                    {\n",
    "                        \"distance_weight\": 0.1,\n",
    "                        \"distance_cdiff_thres\": 5.0,\n",
    "                    },\n",
    "                    {\n",
    "                        \"distance_weight\": 1.0,\n",
    "                        \"distance_cdiff_thres\": 5.0,\n",
    "                    },\n",
    "                ],\n",
    "            }\n",
    "        ),\n",
    "        assignment_functions={\n",
    "            \"min_score_q25_union\": partial(assign, min_score_quantile=0.25, direction=\"union\", as_matrix=True),\n",
    "            \"max_only_intersect\": partial(assign, max_only=True, direction=\"intersect\", as_matrix=True),\n",
    "            \"linear_sum_forward\": partial(assign, linear_sum=True, direction=\"forward\", as_matrix=True),\n",
    "        }\n",
    "    )\n",
    "}\n",
    "\n",
    "metric_functions = default_metrics"
   ]
  },
  {
   "cell_type": "code",
   "execution_count": 3,
   "metadata": {},
   "outputs": [
    {
     "name": "stderr",
     "output_type": "stream",
     "text": [
      "  0%|          | 0/256 [00:00<?, ?it/s]"
     ]
    }
   ],
   "source": [
    "benchmark = Benchmark(\n",
    "    source_points_files=sorted(Path(source_points_dir).glob(\"*.csv\")),\n",
    "    source_intensities_files=sorted(Path(source_intensities_dir).glob(\"*.csv\")),\n",
    "    source_clusters_files=sorted(Path(source_clusters_dir).glob(\"*.csv\")),\n",
    "    simutome_kwargs=simutome_kwargs,\n",
    "    simutome_param_grid=simutome_param_grid,\n",
    "    num_sections=num_sections,\n",
    "    algorithm_configs=algorithm_configs,\n",
    "    metric_functions=metric_functions,\n",
    "    seed=rng,\n",
    ")\n",
    "\n",
    "benchmark_dir = Path(\"spellmatch_psa\")\n",
    "scores_dir = benchmark_dir / \"scores\"\n",
    "scores_dir.mkdir(exist_ok=True, parents=True)\n",
    "\n",
    "infos = []\n",
    "all_results = []\n",
    "for i, (info, scores, results) in enumerate(tqdm(benchmark)):\n",
    "    print(i, info)\n",
    "    infos.append(info)\n",
    "    if scores is not None:\n",
    "        scores_file_name = f\"scores{i:06d}.nc\"\n",
    "        write_scores(scores_dir / scores_file_name, scores)\n",
    "    if results is not None:\n",
    "        for result in results:\n",
    "            result.update(info)\n",
    "        all_results += results\n",
    "infos = pd.DataFrame(data=infos)\n",
    "infos.to_csv(benchmark_dir / \"infos.csv\", index=False)\n",
    "all_results = pd.DataFrame(data=all_results)\n",
    "all_results.to_csv(benchmark_dir / \"results.csv\", index=False)"
   ]
  },
  {
   "cell_type": "markdown",
   "metadata": {},
   "source": [
    "## Adjacency radius"
   ]
  },
  {
   "cell_type": "markdown",
   "metadata": {},
   "source": [
    "- Fixed simutome parameters\n",
    "- Fixed similarity/prior weights"
   ]
  },
  {
   "cell_type": "code",
   "execution_count": null,
   "metadata": {},
   "outputs": [],
   "source": []
  }
 ],
 "metadata": {
  "interpreter": {
   "hash": "48552f1e0085238a3740c4463b23e5f53bb0e70392f2ba74f46eff445f4a3441"
  },
  "kernelspec": {
   "display_name": "Python 3.9.7 ('spellmatch')",
   "language": "python",
   "name": "python3"
  },
  "language_info": {
   "codemirror_mode": {
    "name": "ipython",
    "version": 3
   },
   "file_extension": ".py",
   "mimetype": "text/x-python",
   "name": "python",
   "nbconvert_exporter": "python",
   "pygments_lexer": "ipython3",
   "version": "3.9.7"
  },
  "orig_nbformat": 4
 },
 "nbformat": 4,
 "nbformat_minor": 2
}
